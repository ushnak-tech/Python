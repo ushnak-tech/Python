{
  "nbformat": 4,
  "nbformat_minor": 0,
  "metadata": {
    "colab": {
      "name": "Python Tutorials.ipynb",
      "provenance": []
    },
    "kernelspec": {
      "name": "python3",
      "display_name": "Python 3"
    },
    "language_info": {
      "name": "python"
    }
  },
  "cells": [
    {
      "cell_type": "markdown",
      "source": [
        "# Lists\n",
        "## .remove() .reverse() .sort() .pop() \n",
        "### the .sort() function sorts the list with inplace=true if in case you want to  intact the original list and want to store the sorted list somewhere else you can use sorted() function"
      ],
      "metadata": {
        "id": "h5-QZNGdnJmY"
      }
    },
    {
      "cell_type": "code",
      "source": [
        "list_=list()\n",
        "for i in range(10):\n",
        "  list_.append(i)\n",
        "print(list_)"
      ],
      "metadata": {
        "colab": {
          "base_uri": "https://localhost:8080/"
        },
        "id": "Nc0L4idSnIol",
        "outputId": "a9cdbe0d-32fb-4fc9-ab70-6f612768fc4b"
      },
      "execution_count": null,
      "outputs": [
        {
          "output_type": "stream",
          "name": "stdout",
          "text": [
            "[0, 1, 2, 3, 4, 5, 6, 7, 8, 9]\n"
          ]
        }
      ]
    },
    {
      "cell_type": "code",
      "execution_count": null,
      "metadata": {
        "id": "dym-pdqVHJwB",
        "colab": {
          "base_uri": "https://localhost:8080/"
        },
        "outputId": "35e04d85-24c2-43a3-9613-efb909f6f3bd"
      },
      "outputs": [
        {
          "output_type": "execute_result",
          "data": {
            "text/plain": [
              "[0, 1, 55, 2, 3, 4, 5, 6, 7, 8, 9]"
            ]
          },
          "metadata": {},
          "execution_count": 2
        }
      ],
      "source": [
        "list_.insert(2,55)\n",
        "list_"
      ]
    },
    {
      "cell_type": "code",
      "source": [
        "list_.sort()\n",
        "list_"
      ],
      "metadata": {
        "colab": {
          "base_uri": "https://localhost:8080/"
        },
        "id": "o1VZ4QyMUEcd",
        "outputId": "ba9b765a-2812-42ee-97a1-63f389b0305d"
      },
      "execution_count": null,
      "outputs": [
        {
          "output_type": "execute_result",
          "data": {
            "text/plain": [
              "[0, 1, 2, 3, 4, 5, 6, 7, 8, 9, 55]"
            ]
          },
          "metadata": {},
          "execution_count": 4
        }
      ]
    },
    {
      "cell_type": "code",
      "source": [
        "list_.append(-1)\n",
        "list_new=sorted(list_)\n",
        "print(list_new)\n",
        "print(list_)"
      ],
      "metadata": {
        "colab": {
          "base_uri": "https://localhost:8080/"
        },
        "id": "fVtVjUu7UEgF",
        "outputId": "a8c5cb64-3ee8-462e-964c-3395f176665d"
      },
      "execution_count": null,
      "outputs": [
        {
          "output_type": "stream",
          "name": "stdout",
          "text": [
            "[-1, 0, 1, 2, 3, 4, 5, 6, 7, 8, 9, 55]\n",
            "[0, 1, 2, 3, 4, 5, 6, 7, 8, 9, 55, -1]\n"
          ]
        }
      ]
    },
    {
      "cell_type": "markdown",
      "source": [
        "### if you want to add same element multiple times"
      ],
      "metadata": {
        "id": "nnN8yGMso3zU"
      }
    },
    {
      "cell_type": "code",
      "source": [
        "mylist=[0]*5\n",
        "mylist"
      ],
      "metadata": {
        "colab": {
          "base_uri": "https://localhost:8080/"
        },
        "id": "ltX08TlCUEje",
        "outputId": "fa7cd1fa-e157-4586-bb93-b76697f2a15c"
      },
      "execution_count": null,
      "outputs": [
        {
          "output_type": "execute_result",
          "data": {
            "text/plain": [
              "[0, 0, 0, 0, 0]"
            ]
          },
          "metadata": {},
          "execution_count": 6
        }
      ]
    },
    {
      "cell_type": "markdown",
      "source": [
        "and you pretty much know slicing, right?"
      ],
      "metadata": {
        "id": "7J4RzaMCpBLV"
      }
    },
    {
      "cell_type": "markdown",
      "source": [
        "### how to reverse a list without using the reverse function"
      ],
      "metadata": {
        "id": "IueP1oDApL07"
      }
    },
    {
      "cell_type": "code",
      "source": [
        "list_[::-1]"
      ],
      "metadata": {
        "colab": {
          "base_uri": "https://localhost:8080/"
        },
        "id": "xA5GuQYqUEmd",
        "outputId": "36f71054-b0af-48ed-cf2a-29458628bfd7"
      },
      "execution_count": null,
      "outputs": [
        {
          "output_type": "execute_result",
          "data": {
            "text/plain": [
              "[-1, 55, 9, 8, 7, 6, 5, 4, 3, 2, 1, 0]"
            ]
          },
          "metadata": {},
          "execution_count": 7
        }
      ]
    },
    {
      "cell_type": "markdown",
      "source": [
        "### how to copy list carefully??\n",
        "dont use the assignment operator because in that case both the copied and original list are referring to the same list in the memory so always use copy function\n"
      ],
      "metadata": {
        "id": "6J5QLhHZpoR2"
      }
    },
    {
      "cell_type": "code",
      "source": [
        "list_my=list_.copy()\n",
        "list_my"
      ],
      "metadata": {
        "colab": {
          "base_uri": "https://localhost:8080/"
        },
        "id": "UnDbF9vwUEpl",
        "outputId": "c0ae4232-1415-491c-825a-2eb81b4fcfd4"
      },
      "execution_count": null,
      "outputs": [
        {
          "output_type": "execute_result",
          "data": {
            "text/plain": [
              "[0, 1, 2, 3, 4, 5, 6, 7, 8, 9, 55, -1]"
            ]
          },
          "metadata": {},
          "execution_count": 8
        }
      ]
    },
    {
      "cell_type": "markdown",
      "source": [
        "if using assignment operator to copy lists, then changing something in copied list would reflect change in the original list as well"
      ],
      "metadata": {
        "id": "Mx_wdWY5p8Fk"
      }
    },
    {
      "cell_type": "markdown",
      "source": [
        "### Three methods of  making actual copy of a list"
      ],
      "metadata": {
        "id": "rKgfsh8oqP6-"
      }
    },
    {
      "cell_type": "code",
      "source": [
        "# 1.\n",
        "list_1=list_[:]\n",
        "# 2.\n",
        "list_2=list(list_)\n",
        "# 3.\n",
        "list_3=list_.copy()\n",
        "\n",
        "print(list_1,\"\\n\",\n",
        "      list_2,\"\\n\",\n",
        "      list_3)"
      ],
      "metadata": {
        "colab": {
          "base_uri": "https://localhost:8080/"
        },
        "id": "ycjQsUs2UEs0",
        "outputId": "2fc2b93c-53d6-4786-d2f2-d09897ec8c57"
      },
      "execution_count": null,
      "outputs": [
        {
          "output_type": "stream",
          "name": "stdout",
          "text": [
            "[0, 1, 2, 3, 4, 5, 6, 7, 8, 9, 55, -1] \n",
            " [0, 1, 2, 3, 4, 5, 6, 7, 8, 9, 55, -1] \n",
            " [0, 1, 2, 3, 4, 5, 6, 7, 8, 9, 55, -1]\n"
          ]
        }
      ]
    },
    {
      "cell_type": "markdown",
      "source": [
        "## **List Comprehensions**"
      ],
      "metadata": {
        "id": "lRVGSD8JrYX-"
      }
    },
    {
      "cell_type": "code",
      "source": [
        "list_b=[i*2 for i in list_1]\n",
        "print(list_b)"
      ],
      "metadata": {
        "colab": {
          "base_uri": "https://localhost:8080/"
        },
        "id": "LiJCj3P3UFRC",
        "outputId": "45c044e9-274b-436e-b54e-34abfb9b5ace"
      },
      "execution_count": null,
      "outputs": [
        {
          "output_type": "stream",
          "name": "stdout",
          "text": [
            "[0, 2, 4, 6, 8, 10, 12, 14, 16, 18, 110, -2]\n"
          ]
        }
      ]
    },
    {
      "cell_type": "code",
      "source": [
        "num1=[1,3,5,7,9]\n",
        "num2=[2,4,6,8,10]\n",
        "num3=[(x,y) for x in num1 for y in num2]"
      ],
      "metadata": {
        "id": "BmSu5rK8UFhT"
      },
      "execution_count": null,
      "outputs": []
    },
    {
      "cell_type": "code",
      "source": [
        "num3"
      ],
      "metadata": {
        "id": "cH9GPARgUFkT"
      },
      "execution_count": null,
      "outputs": []
    },
    {
      "cell_type": "code",
      "source": [
        "names=['Ram','Rinu','Tina','Mohan']\n",
        "name_havee_a=[x for x in names if 'a' in x]"
      ],
      "metadata": {
        "id": "NWp_dZz-UF1I"
      },
      "execution_count": null,
      "outputs": []
    },
    {
      "cell_type": "code",
      "source": [
        "name_havee_a"
      ],
      "metadata": {
        "colab": {
          "base_uri": "https://localhost:8080/"
        },
        "id": "Dy7s5ZAwUF3u",
        "outputId": "c7d6c4da-5e3e-4714-b5f8-e20aa475381c"
      },
      "execution_count": null,
      "outputs": [
        {
          "output_type": "execute_result",
          "data": {
            "text/plain": [
              "['Ram', 'Tina', 'Mohan']"
            ]
          },
          "metadata": {},
          "execution_count": 18
        }
      ]
    },
    {
      "cell_type": "markdown",
      "source": [
        "using if else in list comprehension"
      ],
      "metadata": {
        "id": "oB51qqUbtqa6"
      }
    },
    {
      "cell_type": "code",
      "source": [
        "odd_even=[str(i)+'=Even'if i%2==0 else str(i)+'=Odd' for i in range(11)]\n",
        "odd_even"
      ],
      "metadata": {
        "colab": {
          "base_uri": "https://localhost:8080/"
        },
        "id": "u6L1Jc-0tx9L",
        "outputId": "f5eb5e94-b7cf-4f56-8094-3027ea9d688b"
      },
      "execution_count": null,
      "outputs": [
        {
          "output_type": "execute_result",
          "data": {
            "text/plain": [
              "['0=Even',\n",
              " '1=Odd',\n",
              " '2=Even',\n",
              " '3=Odd',\n",
              " '4=Even',\n",
              " '5=Odd',\n",
              " '6=Even',\n",
              " '7=Odd',\n",
              " '8=Even',\n",
              " '9=Odd',\n",
              " '10=Even']"
            ]
          },
          "metadata": {},
          "execution_count": 22
        }
      ]
    },
    {
      "cell_type": "markdown",
      "source": [
        "how to flatten list in python?\n"
      ],
      "metadata": {
        "id": "Q6yMhNQ_uoRb"
      }
    },
    {
      "cell_type": "code",
      "source": [
        "list_1=[[1,2],[3,4]]\n",
        "list_flat=[ num for row in list_1 for num in row]"
      ],
      "metadata": {
        "id": "jelh9HO5tx55"
      },
      "execution_count": null,
      "outputs": []
    },
    {
      "cell_type": "code",
      "source": [
        "list_flat"
      ],
      "metadata": {
        "colab": {
          "base_uri": "https://localhost:8080/"
        },
        "id": "qC37MICztx2t",
        "outputId": "6aa095c7-22e5-4cc4-b714-f772621eda6b"
      },
      "execution_count": null,
      "outputs": [
        {
          "output_type": "execute_result",
          "data": {
            "text/plain": [
              "[1, 2, 3, 4]"
            ]
          },
          "metadata": {},
          "execution_count": 24
        }
      ]
    },
    {
      "cell_type": "code",
      "source": [
        "list_1[0][1]"
      ],
      "metadata": {
        "colab": {
          "base_uri": "https://localhost:8080/"
        },
        "id": "W0mGTw4wtxz0",
        "outputId": "7d7ca268-24b1-4a0f-8a7d-618ca81de40a"
      },
      "execution_count": null,
      "outputs": [
        {
          "output_type": "execute_result",
          "data": {
            "text/plain": [
              "2"
            ]
          },
          "metadata": {},
          "execution_count": 26
        }
      ]
    },
    {
      "cell_type": "markdown",
      "source": [
        "# Tuples"
      ],
      "metadata": {
        "id": "BT15AGOzvpDP"
      }
    },
    {
      "cell_type": "code",
      "source": [
        "mytup=('max')\n",
        "type(mytup)"
      ],
      "metadata": {
        "colab": {
          "base_uri": "https://localhost:8080/"
        },
        "id": "li62u-fFtxwv",
        "outputId": "6d1555a8-7d87-4059-9ab6-a4371acdeaa8"
      },
      "execution_count": null,
      "outputs": [
        {
          "output_type": "execute_result",
          "data": {
            "text/plain": [
              "str"
            ]
          },
          "metadata": {},
          "execution_count": 27
        }
      ]
    },
    {
      "cell_type": "markdown",
      "source": [
        "### it will treat it as a tring and not a tuple so here's how you fix it:"
      ],
      "metadata": {
        "id": "9nPmVvAOv9bn"
      }
    },
    {
      "cell_type": "code",
      "source": [
        "mytup=('max',)\n",
        "type(mytup)"
      ],
      "metadata": {
        "colab": {
          "base_uri": "https://localhost:8080/"
        },
        "id": "ZFi2yJuKtxt5",
        "outputId": "c605313a-38d0-4ed1-bf80-d982c6900dc1"
      },
      "execution_count": null,
      "outputs": [
        {
          "output_type": "execute_result",
          "data": {
            "text/plain": [
              "tuple"
            ]
          },
          "metadata": {},
          "execution_count": 28
        }
      ]
    },
    {
      "cell_type": "markdown",
      "source": [
        "### change tuple to list:"
      ],
      "metadata": {
        "id": "RmD8sXH8wUvq"
      }
    },
    {
      "cell_type": "code",
      "source": [
        "tuple(list_2)"
      ],
      "metadata": {
        "colab": {
          "base_uri": "https://localhost:8080/"
        },
        "id": "RkngNnGktxoS",
        "outputId": "18e3c922-b3be-4e31-e487-404c3f32d9a9"
      },
      "execution_count": null,
      "outputs": [
        {
          "output_type": "execute_result",
          "data": {
            "text/plain": [
              "(0, 1, 2, 3, 4, 5, 6, 7, 8, 9, 55, -1)"
            ]
          },
          "metadata": {},
          "execution_count": 31
        }
      ]
    },
    {
      "cell_type": "markdown",
      "source": [
        "### .count()"
      ],
      "metadata": {
        "id": "1hqX_ufrxL2x"
      }
    },
    {
      "cell_type": "code",
      "source": [
        "mytup.count('max')"
      ],
      "metadata": {
        "colab": {
          "base_uri": "https://localhost:8080/"
        },
        "id": "MeKq_rcctxi4",
        "outputId": "19c14fd4-724a-4993-bc2c-17c1c02436de"
      },
      "execution_count": null,
      "outputs": [
        {
          "output_type": "execute_result",
          "data": {
            "text/plain": [
              "1"
            ]
          },
          "metadata": {},
          "execution_count": 34
        }
      ]
    },
    {
      "cell_type": "markdown",
      "source": [
        "### .index()"
      ],
      "metadata": {
        "id": "XtUmva4Lx0fL"
      }
    },
    {
      "cell_type": "code",
      "source": [
        "mytup.index(\"max\")"
      ],
      "metadata": {
        "colab": {
          "base_uri": "https://localhost:8080/"
        },
        "id": "vSua9-ecxK2w",
        "outputId": "793130bf-8a7b-4934-d23c-092bcc71cc96"
      },
      "execution_count": null,
      "outputs": [
        {
          "output_type": "execute_result",
          "data": {
            "text/plain": [
              "0"
            ]
          },
          "metadata": {},
          "execution_count": 35
        }
      ]
    },
    {
      "cell_type": "markdown",
      "source": [
        "### unpacking tuple items"
      ],
      "metadata": {
        "id": "v8t-Emeiy0tX"
      }
    },
    {
      "cell_type": "code",
      "source": [
        "mutuple=[1,2,3,4,5,6,7,8]\n",
        "i1,*i2,i3=mutuple\n",
        "print(i1)\n",
        "print(*i2)\n",
        "print(i3)"
      ],
      "metadata": {
        "colab": {
          "base_uri": "https://localhost:8080/"
        },
        "id": "7mmn10NftxfV",
        "outputId": "7e680b7a-d25a-4d03-cc81-36ddf12860a1"
      },
      "execution_count": null,
      "outputs": [
        {
          "output_type": "stream",
          "name": "stdout",
          "text": [
            "1\n",
            "2 3 4 5 6 7\n",
            "8\n"
          ]
        }
      ]
    },
    {
      "cell_type": "markdown",
      "source": [
        "### why to use tuple over list?\n",
        "it is efficient and acquires less memory area"
      ],
      "metadata": {
        "id": "aWeVTvtvzdte"
      }
    },
    {
      "cell_type": "code",
      "source": [
        "import timeit\n",
        "print(timeit.timeit(stmt='[0,1,2,3,4,5]',number=1000000))\n",
        "print(timeit.timeit(stmt='(0,1,2,3,4,5)',number=1000000))"
      ],
      "metadata": {
        "colab": {
          "base_uri": "https://localhost:8080/"
        },
        "id": "XTNh24dCtxcF",
        "outputId": "2e5eb998-fb19-424d-e2b1-17938c11557c"
      },
      "execution_count": null,
      "outputs": [
        {
          "output_type": "stream",
          "name": "stdout",
          "text": [
            "0.08944455699929676\n",
            "0.01274865300001693\n"
          ]
        }
      ]
    },
    {
      "cell_type": "markdown",
      "source": [
        "# Dictionaries"
      ],
      "metadata": {
        "id": "E11XKcnx9S5D"
      }
    },
    {
      "cell_type": "code",
      "source": [
        "mydict=dict(name='ushna',age=22)\n",
        "mydict"
      ],
      "metadata": {
        "id": "qwPBb2lStxY6",
        "colab": {
          "base_uri": "https://localhost:8080/"
        },
        "outputId": "d849c051-cbb4-4f8d-8dc1-86cca93977fe"
      },
      "execution_count": null,
      "outputs": [
        {
          "output_type": "execute_result",
          "data": {
            "text/plain": [
              "{'age': 22, 'name': 'ushna'}"
            ]
          },
          "metadata": {},
          "execution_count": 14
        }
      ]
    },
    {
      "cell_type": "markdown",
      "source": [
        "### Three ways to delete values inside dictionaries"
      ],
      "metadata": {
        "id": "mEWCDJzB9576"
      }
    },
    {
      "cell_type": "code",
      "source": [
        "del mydict['name']"
      ],
      "metadata": {
        "id": "GRuWZ_1-txVt"
      },
      "execution_count": null,
      "outputs": []
    },
    {
      "cell_type": "code",
      "source": [
        "mydict.pop('age')"
      ],
      "metadata": {
        "id": "--eutDRktxSd",
        "colab": {
          "base_uri": "https://localhost:8080/"
        },
        "outputId": "d6fc84b8-a881-4f62-8a71-487965a8bc82"
      },
      "execution_count": null,
      "outputs": [
        {
          "output_type": "execute_result",
          "data": {
            "text/plain": [
              "22"
            ]
          },
          "metadata": {},
          "execution_count": 5
        }
      ]
    },
    {
      "cell_type": "code",
      "source": [
        "mydict.popitem()"
      ],
      "metadata": {
        "id": "VaIm3wKJtxOR",
        "colab": {
          "base_uri": "https://localhost:8080/"
        },
        "outputId": "33b11b84-ae11-40f6-a000-60f980f663ba"
      },
      "execution_count": null,
      "outputs": [
        {
          "output_type": "execute_result",
          "data": {
            "text/plain": [
              "('age', 22)"
            ]
          },
          "metadata": {},
          "execution_count": 8
        }
      ]
    },
    {
      "cell_type": "code",
      "source": [
        "'name' in mydict"
      ],
      "metadata": {
        "id": "bbXKqhjutxKq",
        "colab": {
          "base_uri": "https://localhost:8080/"
        },
        "outputId": "063837b1-30be-4a4d-d2f0-2e67304a5ead"
      },
      "execution_count": null,
      "outputs": [
        {
          "output_type": "execute_result",
          "data": {
            "text/plain": [
              "True"
            ]
          },
          "metadata": {},
          "execution_count": 10
        }
      ]
    },
    {
      "cell_type": "markdown",
      "source": [
        "### try and except"
      ],
      "metadata": {
        "id": "YmTXedj1-Qj8"
      }
    },
    {
      "cell_type": "code",
      "source": [
        "try:\n",
        "  print(mydict['pp'])\n",
        "except:\n",
        "  print('error')"
      ],
      "metadata": {
        "id": "1XoP3Qv3txHT",
        "colab": {
          "base_uri": "https://localhost:8080/"
        },
        "outputId": "7d075511-ea03-4923-b2fb-66e0389db602"
      },
      "execution_count": null,
      "outputs": [
        {
          "output_type": "stream",
          "name": "stdout",
          "text": [
            "error\n"
          ]
        }
      ]
    },
    {
      "cell_type": "markdown",
      "source": [
        "### .values() .items() .keys()"
      ],
      "metadata": {
        "id": "zpJs6wXwAchw"
      }
    },
    {
      "cell_type": "code",
      "source": [
        "for key, value in mydict.items():\n",
        "  print(key,value)"
      ],
      "metadata": {
        "id": "emP2rRHWtxDO",
        "colab": {
          "base_uri": "https://localhost:8080/"
        },
        "outputId": "c5675b41-03af-4de7-ef2c-221257403c14"
      },
      "execution_count": null,
      "outputs": [
        {
          "output_type": "stream",
          "name": "stdout",
          "text": [
            "name ushna\n",
            "age 22\n"
          ]
        }
      ]
    },
    {
      "cell_type": "code",
      "source": [
        "for value in mydict.values():\n",
        "  print(value)"
      ],
      "metadata": {
        "id": "uPTYj1D_tw_u",
        "colab": {
          "base_uri": "https://localhost:8080/"
        },
        "outputId": "e64dc97c-52c2-45b7-c161-1f7fa30035e7"
      },
      "execution_count": null,
      "outputs": [
        {
          "output_type": "stream",
          "name": "stdout",
          "text": [
            "ushna\n",
            "22\n"
          ]
        }
      ]
    },
    {
      "cell_type": "markdown",
      "source": [
        "### updating/merging dictionaries"
      ],
      "metadata": {
        "id": "Ox87a90sBAMT"
      }
    },
    {
      "cell_type": "code",
      "source": [
        "mydict2=dict(name='khan',email='xyz')\n",
        "mydict.update(mydict2)\n",
        "mydict"
      ],
      "metadata": {
        "id": "LKYBT06mUN82",
        "colab": {
          "base_uri": "https://localhost:8080/"
        },
        "outputId": "e49292bb-ed25-489b-ccba-2a93e8e246de"
      },
      "execution_count": null,
      "outputs": [
        {
          "output_type": "execute_result",
          "data": {
            "text/plain": [
              "{'age': 22, 'email': 'xyz', 'name': 'khan'}"
            ]
          },
          "metadata": {},
          "execution_count": 18
        }
      ]
    },
    {
      "cell_type": "markdown",
      "source": [
        "#### dictionary values are mutable\n",
        "we can use tuple in place of keys but cannot use list because lists are mmutable"
      ],
      "metadata": {
        "id": "0QeKoUthBmVG"
      }
    },
    {
      "cell_type": "code",
      "source": [
        "tuplee=(2,3,4)\n",
        "myd={tuplee:'okay'}\n",
        "myd"
      ],
      "metadata": {
        "id": "WPqjspSeUOCp",
        "colab": {
          "base_uri": "https://localhost:8080/"
        },
        "outputId": "25644466-029f-4d8f-f2aa-a710d4796073"
      },
      "execution_count": null,
      "outputs": [
        {
          "output_type": "execute_result",
          "data": {
            "text/plain": [
              "{(2, 3, 4): 'okay'}"
            ]
          },
          "metadata": {},
          "execution_count": 22
        }
      ]
    },
    {
      "cell_type": "markdown",
      "source": [
        "# Sets"
      ],
      "metadata": {
        "id": "VzETdycRDuSs"
      }
    },
    {
      "cell_type": "markdown",
      "source": [
        "## sets doesnot allow duplicates"
      ],
      "metadata": {
        "id": "kGtBUmUDD2nY"
      }
    },
    {
      "cell_type": "code",
      "source": [
        "myset=set('Hello')\n",
        "myset"
      ],
      "metadata": {
        "id": "g-wcEM5qUOHJ",
        "colab": {
          "base_uri": "https://localhost:8080/"
        },
        "outputId": "ff5b6b9f-fbeb-4db5-9362-5240a0d7e59a"
      },
      "execution_count": null,
      "outputs": [
        {
          "output_type": "execute_result",
          "data": {
            "text/plain": [
              "{'H', 'e', 'l', 'o'}"
            ]
          },
          "metadata": {},
          "execution_count": 23
        }
      ]
    },
    {
      "cell_type": "code",
      "source": [
        "myset=set()\n",
        "myset.add(1)\n",
        "myset.add(2)\n",
        "myset.add(3)\n",
        "myset"
      ],
      "metadata": {
        "id": "xybPJOa7UOKy",
        "colab": {
          "base_uri": "https://localhost:8080/"
        },
        "outputId": "5fec68f3-bbdb-451d-9bdf-64ad2db7a7eb"
      },
      "execution_count": null,
      "outputs": [
        {
          "output_type": "execute_result",
          "data": {
            "text/plain": [
              "{1, 2, 3}"
            ]
          },
          "metadata": {},
          "execution_count": 30
        }
      ]
    },
    {
      "cell_type": "markdown",
      "source": [
        "### Removing elements\n",
        ".pop() .remove() .discard() .clear()"
      ],
      "metadata": {
        "id": "C-yVFRqMEX5R"
      }
    },
    {
      "cell_type": "code",
      "source": [
        "myset.pop()"
      ],
      "metadata": {
        "id": "AKANFYVZUON-",
        "colab": {
          "base_uri": "https://localhost:8080/"
        },
        "outputId": "4d593d22-76aa-41df-e38d-dd23d13791b1"
      },
      "execution_count": null,
      "outputs": [
        {
          "output_type": "execute_result",
          "data": {
            "text/plain": [
              "1"
            ]
          },
          "metadata": {},
          "execution_count": 28
        }
      ]
    },
    {
      "cell_type": "code",
      "source": [
        "myset.clear()\n",
        "myset"
      ],
      "metadata": {
        "colab": {
          "base_uri": "https://localhost:8080/"
        },
        "id": "h4X0S9IoEjiU",
        "outputId": "76aa5656-66c4-402e-c998-7478e48ea677"
      },
      "execution_count": null,
      "outputs": [
        {
          "output_type": "execute_result",
          "data": {
            "text/plain": [
              "set()"
            ]
          },
          "metadata": {},
          "execution_count": 29
        }
      ]
    },
    {
      "cell_type": "code",
      "source": [
        "myset.remove(3)"
      ],
      "metadata": {
        "id": "hhZIwUmdEjfI"
      },
      "execution_count": null,
      "outputs": []
    },
    {
      "cell_type": "code",
      "source": [
        "myset.discard(5)"
      ],
      "metadata": {
        "id": "B_UjemajEjcE"
      },
      "execution_count": null,
      "outputs": []
    },
    {
      "cell_type": "code",
      "source": [
        "myset"
      ],
      "metadata": {
        "colab": {
          "base_uri": "https://localhost:8080/"
        },
        "id": "PiT6TuMLEjY9",
        "outputId": "936f1cff-8dbd-4017-962d-a46ca8776a0b"
      },
      "execution_count": null,
      "outputs": [
        {
          "output_type": "execute_result",
          "data": {
            "text/plain": [
              "{1, 2}"
            ]
          },
          "metadata": {},
          "execution_count": 34
        }
      ]
    },
    {
      "cell_type": "markdown",
      "source": [
        "## Unions and Intersections"
      ],
      "metadata": {
        "id": "M_BLSy-ZFQDz"
      }
    },
    {
      "cell_type": "code",
      "source": [
        "odd={1,3,5,7}\n",
        "even={2,4,6,8}\n",
        "primes={2,3,5,7}"
      ],
      "metadata": {
        "id": "suYc8Ms4EjWA"
      },
      "execution_count": null,
      "outputs": []
    },
    {
      "cell_type": "code",
      "source": [
        "uni=odd.union(even)\n",
        "uni"
      ],
      "metadata": {
        "colab": {
          "base_uri": "https://localhost:8080/"
        },
        "id": "vNEpfm34EjSm",
        "outputId": "ab0dc529-e24f-4806-83ce-885fb60b2b64"
      },
      "execution_count": null,
      "outputs": [
        {
          "output_type": "execute_result",
          "data": {
            "text/plain": [
              "{1, 2, 3, 4, 5, 6, 7, 8}"
            ]
          },
          "metadata": {},
          "execution_count": 36
        }
      ]
    },
    {
      "cell_type": "code",
      "source": [
        "inter=odd.intersection(primes)"
      ],
      "metadata": {
        "id": "0Jjn5WPnEjPX"
      },
      "execution_count": null,
      "outputs": []
    },
    {
      "cell_type": "code",
      "source": [
        "inter"
      ],
      "metadata": {
        "colab": {
          "base_uri": "https://localhost:8080/"
        },
        "id": "AlO4yLUBEjMM",
        "outputId": "55d0c128-a4a7-407e-9d03-cf5d78575545"
      },
      "execution_count": null,
      "outputs": [
        {
          "output_type": "execute_result",
          "data": {
            "text/plain": [
              "{3, 5, 7}"
            ]
          },
          "metadata": {},
          "execution_count": 38
        }
      ]
    },
    {
      "cell_type": "markdown",
      "source": [
        "### set difference: return only the elements present in first set and exclude the onre that are present in the second set"
      ],
      "metadata": {
        "id": "u3stXWKEHCr_"
      }
    },
    {
      "cell_type": "code",
      "source": [
        "set1={1,2,3,4,5,6,7}\n",
        "set2={5,6,7,8,9,10}\n",
        "# unique elements in both the sets\n",
        "set1.difference(set2)"
      ],
      "metadata": {
        "colab": {
          "base_uri": "https://localhost:8080/"
        },
        "id": "U8cMmEZEEjI6",
        "outputId": "f614b719-74a1-467a-8535-da9f78bc3f40"
      },
      "execution_count": null,
      "outputs": [
        {
          "output_type": "execute_result",
          "data": {
            "text/plain": [
              "{1, 2, 3, 4}"
            ]
          },
          "metadata": {},
          "execution_count": 39
        }
      ]
    },
    {
      "cell_type": "code",
      "source": [
        "set2.difference(set1)"
      ],
      "metadata": {
        "colab": {
          "base_uri": "https://localhost:8080/"
        },
        "id": "Fkl_BjIGEjFt",
        "outputId": "d57792c4-a3e7-4c5d-8c03-20bcf5e6b67e"
      },
      "execution_count": null,
      "outputs": [
        {
          "output_type": "execute_result",
          "data": {
            "text/plain": [
              "{8, 9, 10}"
            ]
          },
          "metadata": {},
          "execution_count": 41
        }
      ]
    },
    {
      "cell_type": "code",
      "source": [
        "# common elements in both the sets\n",
        "\n",
        "set1- set1.difference(set2)"
      ],
      "metadata": {
        "colab": {
          "base_uri": "https://localhost:8080/"
        },
        "id": "JxbYXdz5EjB9",
        "outputId": "b261d49e-14de-45e7-a020-2213e6c61718"
      },
      "execution_count": null,
      "outputs": [
        {
          "output_type": "execute_result",
          "data": {
            "text/plain": [
              "{5, 6, 7}"
            ]
          },
          "metadata": {},
          "execution_count": 42
        }
      ]
    },
    {
      "cell_type": "code",
      "source": [
        "# or we have a function for that\n",
        "set1.symmetric_difference(set2)"
      ],
      "metadata": {
        "colab": {
          "base_uri": "https://localhost:8080/"
        },
        "id": "ZQzYjiSyEi-i",
        "outputId": "a3eb12f6-b424-4f7e-c31f-65a1d2c210c3"
      },
      "execution_count": null,
      "outputs": [
        {
          "output_type": "execute_result",
          "data": {
            "text/plain": [
              "{1, 2, 3, 4, 8, 9, 10}"
            ]
          },
          "metadata": {},
          "execution_count": 43
        }
      ]
    },
    {
      "cell_type": "markdown",
      "source": [
        "#### write a function to print common values in two sets"
      ],
      "metadata": {
        "id": "lncoYowgIBoH"
      }
    },
    {
      "cell_type": "code",
      "source": [
        "def common(set1,set2):\n",
        "  for i in set1:\n",
        "    for j in set2:\n",
        "      if i==j:\n",
        "        print(i)"
      ],
      "metadata": {
        "id": "Daul776tEi7e"
      },
      "execution_count": null,
      "outputs": []
    },
    {
      "cell_type": "code",
      "source": [
        "common(set1,set2)"
      ],
      "metadata": {
        "colab": {
          "base_uri": "https://localhost:8080/"
        },
        "id": "uyPVP-m6Ei4c",
        "outputId": "c1c06621-e92e-455e-a7c2-e8b98fe417f5"
      },
      "execution_count": null,
      "outputs": [
        {
          "output_type": "stream",
          "name": "stdout",
          "text": [
            "5\n",
            "6\n",
            "7\n"
          ]
        }
      ]
    },
    {
      "cell_type": "markdown",
      "source": [
        "#### writing the same function using list comprehension"
      ],
      "metadata": {
        "id": "eTFJX0cYIoBL"
      }
    },
    {
      "cell_type": "code",
      "source": [
        "set([i for i in set1 for j in set2 if i==j])"
      ],
      "metadata": {
        "colab": {
          "base_uri": "https://localhost:8080/"
        },
        "id": "WhuwxePNEiz4",
        "outputId": "14c019d2-25d7-4814-e7c5-3858b4320efd"
      },
      "execution_count": null,
      "outputs": [
        {
          "output_type": "execute_result",
          "data": {
            "text/plain": [
              "{5, 6, 7}"
            ]
          },
          "metadata": {},
          "execution_count": 48
        }
      ]
    },
    {
      "cell_type": "code",
      "source": [
        "set1.issubset(set2)"
      ],
      "metadata": {
        "id": "mAu0298vEiqM",
        "colab": {
          "base_uri": "https://localhost:8080/"
        },
        "outputId": "228f28c9-4980-4268-bbdc-cbb2e1aac591"
      },
      "execution_count": null,
      "outputs": [
        {
          "output_type": "execute_result",
          "data": {
            "text/plain": [
              "False"
            ]
          },
          "metadata": {},
          "execution_count": 51
        }
      ]
    },
    {
      "cell_type": "markdown",
      "source": [
        "#### frozensets"
      ],
      "metadata": {
        "id": "e44bb_nUWgCt"
      }
    },
    {
      "cell_type": "code",
      "source": [
        "sets=frozenset([1,2,3,4,6])\n",
        "sets"
      ],
      "metadata": {
        "id": "nwXl7fwHEims",
        "colab": {
          "base_uri": "https://localhost:8080/"
        },
        "outputId": "209acff6-f467-4db2-e03c-862363d899f3"
      },
      "execution_count": null,
      "outputs": [
        {
          "output_type": "execute_result",
          "data": {
            "text/plain": [
              "frozenset({1, 2, 3, 4, 6})"
            ]
          },
          "metadata": {},
          "execution_count": 52
        }
      ]
    },
    {
      "cell_type": "markdown",
      "source": [
        "# Strings"
      ],
      "metadata": {
        "id": "xz-l0DcQXrGe"
      }
    },
    {
      "cell_type": "code",
      "source": [
        "strings='Hello World'\n",
        "strings.startswith('H')"
      ],
      "metadata": {
        "colab": {
          "base_uri": "https://localhost:8080/"
        },
        "id": "YFUqnRLzXu4E",
        "outputId": "1aaed49e-1946-4d52-b2a2-cc6fb6a47b33"
      },
      "execution_count": null,
      "outputs": [
        {
          "output_type": "execute_result",
          "data": {
            "text/plain": [
              "True"
            ]
          },
          "metadata": {},
          "execution_count": 54
        }
      ]
    },
    {
      "cell_type": "code",
      "source": [
        "strings.endswith('d')"
      ],
      "metadata": {
        "colab": {
          "base_uri": "https://localhost:8080/"
        },
        "id": "6irwMgVzXu0B",
        "outputId": "7573badb-83dd-4e91-902a-93480d103e57"
      },
      "execution_count": null,
      "outputs": [
        {
          "output_type": "execute_result",
          "data": {
            "text/plain": [
              "True"
            ]
          },
          "metadata": {},
          "execution_count": 57
        }
      ]
    },
    {
      "cell_type": "markdown",
      "source": [
        "### .strip() is used to cut down the wide spaces"
      ],
      "metadata": {
        "id": "TAgpLRVlYDkR"
      }
    },
    {
      "cell_type": "markdown",
      "source": [
        "since strings are immutable how to replace them"
      ],
      "metadata": {
        "id": "47EYdxLXYXCW"
      }
    },
    {
      "cell_type": "code",
      "source": [
        "strings.replace(\"World\",'Universe')"
      ],
      "metadata": {
        "colab": {
          "base_uri": "https://localhost:8080/",
          "height": 35
        },
        "id": "UEVvbxUOXuwM",
        "outputId": "366879aa-e818-4809-a10d-85424bad06cf"
      },
      "execution_count": null,
      "outputs": [
        {
          "output_type": "execute_result",
          "data": {
            "text/plain": [
              "'Hello Universe'"
            ],
            "application/vnd.google.colaboratory.intrinsic+json": {
              "type": "string"
            }
          },
          "metadata": {},
          "execution_count": 58
        }
      ]
    },
    {
      "cell_type": "code",
      "source": [
        "list_=strings.split()\n",
        "list_"
      ],
      "metadata": {
        "colab": {
          "base_uri": "https://localhost:8080/"
        },
        "id": "6H477DSvXust",
        "outputId": "b0444bf5-43b9-4c37-d255-45a4e10a610a"
      },
      "execution_count": null,
      "outputs": [
        {
          "output_type": "execute_result",
          "data": {
            "text/plain": [
              "['Hello', 'World']"
            ]
          },
          "metadata": {},
          "execution_count": 59
        }
      ]
    },
    {
      "cell_type": "markdown",
      "source": [
        "#### quickly joins the elements of a list"
      ],
      "metadata": {
        "id": "s5AXxuzdZLpV"
      }
    },
    {
      "cell_type": "code",
      "source": [
        "str_=\" \".join(list_)\n",
        "str_"
      ],
      "metadata": {
        "colab": {
          "base_uri": "https://localhost:8080/",
          "height": 35
        },
        "id": "SMdwEGrZXupW",
        "outputId": "06229581-41cf-4566-c7d3-bf09b0b898ae"
      },
      "execution_count": null,
      "outputs": [
        {
          "output_type": "execute_result",
          "data": {
            "text/plain": [
              "'Hello World'"
            ],
            "application/vnd.google.colaboratory.intrinsic+json": {
              "type": "string"
            }
          },
          "metadata": {},
          "execution_count": 60
        }
      ]
    },
    {
      "cell_type": "markdown",
      "source": [
        "### formatting a string"
      ],
      "metadata": {
        "id": "dU6OrAcuaRA6"
      }
    },
    {
      "cell_type": "code",
      "source": [
        "name='ushna'\n",
        "age=22\n",
        "print(\"my name is {} and i am {:.2f}\".format(name,age))"
      ],
      "metadata": {
        "colab": {
          "base_uri": "https://localhost:8080/"
        },
        "id": "a2DkkY8hXul-",
        "outputId": "60967f8a-616c-4347-9730-3f9495d6487a"
      },
      "execution_count": null,
      "outputs": [
        {
          "output_type": "stream",
          "name": "stdout",
          "text": [
            "my name is ushna and i am 22.00\n"
          ]
        }
      ]
    },
    {
      "cell_type": "code",
      "source": [
        "print(f\"my name is {name} and i am {age}\")"
      ],
      "metadata": {
        "colab": {
          "base_uri": "https://localhost:8080/"
        },
        "id": "-IhXRvkIXuh_",
        "outputId": "0e489a57-fa62-42dc-ee59-3e7eb0cf471b"
      },
      "execution_count": null,
      "outputs": [
        {
          "output_type": "stream",
          "name": "stdout",
          "text": [
            "my name is ushna and i am 22\n"
          ]
        }
      ]
    },
    {
      "cell_type": "markdown",
      "source": [
        "# Collections in pyython\n",
        "## 1. Counter"
      ],
      "metadata": {
        "id": "YKSGdtPXczCQ"
      }
    },
    {
      "cell_type": "code",
      "source": [
        "from collections import Counter\n",
        "str1='aavcfghhhhhbbbbjjj'\n",
        "mycounter=Counter()\n",
        "type(mycounter)"
      ],
      "metadata": {
        "colab": {
          "base_uri": "https://localhost:8080/"
        },
        "id": "lIy7UVJdXubb",
        "outputId": "26336c26-1ae1-4e32-c841-4a1cb0dc832c"
      },
      "execution_count": null,
      "outputs": [
        {
          "output_type": "execute_result",
          "data": {
            "text/plain": [
              "collections.Counter"
            ]
          },
          "metadata": {},
          "execution_count": 68
        }
      ]
    },
    {
      "cell_type": "markdown",
      "source": [
        "### how to find unique elements in a string using counter"
      ],
      "metadata": {
        "id": "uAbqkWNUdHbO"
      }
    },
    {
      "cell_type": "code",
      "source": [
        "mycounter=Counter(str1)\n",
        "mycounter # returns sictionary\n",
        "\n",
        "##---------unique values-----------\n",
        "mycounter.keys()"
      ],
      "metadata": {
        "colab": {
          "base_uri": "https://localhost:8080/"
        },
        "id": "flqfYQ2JXuX1",
        "outputId": "0ecd3b96-9f1c-427e-b523-92a0445b62e5"
      },
      "execution_count": null,
      "outputs": [
        {
          "output_type": "execute_result",
          "data": {
            "text/plain": [
              "dict_keys(['a', 'v', 'c', 'f', 'g', 'h', 'b', 'j'])"
            ]
          },
          "metadata": {},
          "execution_count": 73
        }
      ]
    },
    {
      "cell_type": "markdown",
      "source": [
        "### how to see most common element in python"
      ],
      "metadata": {
        "id": "sCWVN1BfdtYB"
      }
    },
    {
      "cell_type": "code",
      "source": [
        "mycounter.most_common(2)"
      ],
      "metadata": {
        "colab": {
          "base_uri": "https://localhost:8080/"
        },
        "id": "Q_kVDjYtXuUi",
        "outputId": "61dc20d9-7d43-4dc5-ce26-ca32e26e15e8"
      },
      "execution_count": null,
      "outputs": [
        {
          "output_type": "execute_result",
          "data": {
            "text/plain": [
              "[('h', 5), ('b', 4)]"
            ]
          },
          "metadata": {},
          "execution_count": 74
        }
      ]
    },
    {
      "cell_type": "code",
      "source": [
        "list(mycounter.elements())"
      ],
      "metadata": {
        "id": "cgsnVaKVXuRE"
      },
      "execution_count": null,
      "outputs": []
    },
    {
      "cell_type": "markdown",
      "source": [
        "## 2. Namedtuple"
      ],
      "metadata": {
        "id": "cT7L2CyZgDcI"
      }
    },
    {
      "cell_type": "code",
      "source": [
        "from collections import namedtuple ## struct type\n",
        "Point=namedtuple('Point','x,y')  ## will create a class point with fields x and y\n",
        "pt=Point(1,3)\n",
        "pt"
      ],
      "metadata": {
        "colab": {
          "base_uri": "https://localhost:8080/"
        },
        "id": "oo-LCWEmXuMz",
        "outputId": "ad57fadd-ede4-4a48-dbb1-23896110ffae"
      },
      "execution_count": null,
      "outputs": [
        {
          "output_type": "execute_result",
          "data": {
            "text/plain": [
              "Point(x=1, y=3)"
            ]
          },
          "metadata": {},
          "execution_count": 77
        }
      ]
    },
    {
      "cell_type": "markdown",
      "source": [
        "## 3. OrderedDict"
      ],
      "metadata": {
        "id": "YrWpeBS-hqsS"
      }
    },
    {
      "cell_type": "code",
      "source": [
        "from collections import OrderedDict"
      ],
      "metadata": {
        "id": "G4jCW5pqXuGA"
      },
      "execution_count": null,
      "outputs": []
    },
    {
      "cell_type": "code",
      "source": [
        "mydict={'name':'ushna','age':22}"
      ],
      "metadata": {
        "id": "kEHZvXVPXuBZ"
      },
      "execution_count": null,
      "outputs": []
    },
    {
      "cell_type": "code",
      "source": [
        "mydict #does not retain order"
      ],
      "metadata": {
        "colab": {
          "base_uri": "https://localhost:8080/"
        },
        "id": "7ur62cdGXt9q",
        "outputId": "7bb3bc7c-712d-4622-8963-1b38b0436889"
      },
      "execution_count": null,
      "outputs": [
        {
          "output_type": "execute_result",
          "data": {
            "text/plain": [
              "{'age': 22, 'name': 'ushna'}"
            ]
          },
          "metadata": {},
          "execution_count": 80
        }
      ]
    },
    {
      "cell_type": "code",
      "source": [
        "ordered=OrderedDict()\n",
        "ordered['name']='ushna'\n",
        "ordered['age']=22\n",
        "ordered"
      ],
      "metadata": {
        "colab": {
          "base_uri": "https://localhost:8080/"
        },
        "id": "7t0ugtpCXt6F",
        "outputId": "0ce74a9d-e200-460d-d385-6a704ede6e2f"
      },
      "execution_count": null,
      "outputs": [
        {
          "output_type": "execute_result",
          "data": {
            "text/plain": [
              "OrderedDict([('name', 'ushna'), ('age', 22)])"
            ]
          },
          "metadata": {},
          "execution_count": 85
        }
      ]
    },
    {
      "cell_type": "code",
      "source": [
        "ordered={}\n",
        "ordered['name']='ushna'\n",
        "ordered['age']=22\n",
        "ordered"
      ],
      "metadata": {
        "colab": {
          "base_uri": "https://localhost:8080/"
        },
        "id": "ko1YlUZ9k1cG",
        "outputId": "e2102442-2a71-43f6-ba47-2edc96a0ad6d"
      },
      "execution_count": null,
      "outputs": [
        {
          "output_type": "execute_result",
          "data": {
            "text/plain": [
              "{'age': 22, 'name': 'ushna'}"
            ]
          },
          "metadata": {},
          "execution_count": 87
        }
      ]
    },
    {
      "cell_type": "markdown",
      "source": [
        "## 4. defaultdict\n",
        "use defaultdict to avoid raising key errors"
      ],
      "metadata": {
        "id": "C5E2_c6GlUdT"
      }
    },
    {
      "cell_type": "code",
      "source": [
        "from collections import defaultdict\n",
        "d=defaultdict(int) #or use float list etc\n",
        "d['a']=1\n",
        "d['b']=2\n",
        "print(d['c'])"
      ],
      "metadata": {
        "colab": {
          "base_uri": "https://localhost:8080/"
        },
        "id": "iw7DBOaSXt2S",
        "outputId": "1e956633-a9cc-492f-8772-2682fbbf468e"
      },
      "execution_count": null,
      "outputs": [
        {
          "output_type": "stream",
          "name": "stdout",
          "text": [
            "0\n"
          ]
        }
      ]
    },
    {
      "cell_type": "markdown",
      "source": [
        "## 5. deque\n",
        "deque is a double ended queue"
      ],
      "metadata": {
        "id": "d1Y3NObWlzaZ"
      }
    },
    {
      "cell_type": "code",
      "source": [
        "from collections import deque\n",
        "### we can insert and remove elements from both the ends\n",
        "\n",
        "d=deque()\n",
        "d.append(0)\n",
        "d.append(1)\n",
        "print(d)\n",
        "print(type(d))\n",
        "d.appendleft(-1)\n",
        "print(d)\n",
        "d.pop()\n",
        "print(d)\n",
        "d.popleft()\n",
        "print(d)"
      ],
      "metadata": {
        "colab": {
          "base_uri": "https://localhost:8080/"
        },
        "id": "touTg_UmXtyE",
        "outputId": "db733028-99ff-47bb-fc1a-0d7cf6e6afe2"
      },
      "execution_count": null,
      "outputs": [
        {
          "output_type": "stream",
          "name": "stdout",
          "text": [
            "deque([0, 1])\n",
            "<class 'collections.deque'>\n",
            "deque([-1, 0, 1])\n",
            "deque([-1, 0])\n",
            "deque([0])\n"
          ]
        }
      ]
    },
    {
      "cell_type": "code",
      "source": [
        "d.extend([4,5,6])\n",
        "d"
      ],
      "metadata": {
        "colab": {
          "base_uri": "https://localhost:8080/"
        },
        "id": "ySYswEMZXttt",
        "outputId": "639ebca5-b28c-403b-fd9a-6278b23a3d3e"
      },
      "execution_count": null,
      "outputs": [
        {
          "output_type": "execute_result",
          "data": {
            "text/plain": [
              "deque([0, 4, 5, 6, 4, 5, 6])"
            ]
          },
          "metadata": {},
          "execution_count": 95
        }
      ]
    },
    {
      "cell_type": "code",
      "source": [
        "d.extendleft([5,9,0])"
      ],
      "metadata": {
        "id": "RAxqid_NXtpG"
      },
      "execution_count": null,
      "outputs": []
    },
    {
      "cell_type": "code",
      "source": [
        "d"
      ],
      "metadata": {
        "colab": {
          "base_uri": "https://localhost:8080/"
        },
        "id": "bjKGjeBWXtkt",
        "outputId": "095077fe-f1c0-4840-aa8c-b74495441c07"
      },
      "execution_count": null,
      "outputs": [
        {
          "output_type": "execute_result",
          "data": {
            "text/plain": [
              "deque([0, 9, 5, 0, 4, 5, 6, 4, 5, 6])"
            ]
          },
          "metadata": {},
          "execution_count": 97
        }
      ]
    },
    {
      "cell_type": "code",
      "source": [
        "d.rotate(1)\n",
        "d"
      ],
      "metadata": {
        "id": "f9K0dpCGEija",
        "colab": {
          "base_uri": "https://localhost:8080/"
        },
        "outputId": "43169e32-1b0a-4064-f92f-9ae98d879528"
      },
      "execution_count": null,
      "outputs": [
        {
          "output_type": "execute_result",
          "data": {
            "text/plain": [
              "deque([6, 0, 9, 5, 0, 4, 5, 6, 4, 5])"
            ]
          },
          "metadata": {},
          "execution_count": 98
        }
      ]
    },
    {
      "cell_type": "markdown",
      "source": [
        "# Itertools"
      ],
      "metadata": {
        "id": "5SRMOREOoWff"
      }
    },
    {
      "cell_type": "code",
      "source": [
        "from itertools import product\n",
        "\n",
        "list1=[1,2,3]\n",
        "list2=[4,6,'m']\n",
        "\n",
        "prod=product(list1,list2)\n",
        "print(list(prod))"
      ],
      "metadata": {
        "colab": {
          "base_uri": "https://localhost:8080/"
        },
        "id": "6Amzag7dnLfU",
        "outputId": "28b5b583-cad1-4e5a-ed73-188aec2b17a2"
      },
      "execution_count": null,
      "outputs": [
        {
          "output_type": "stream",
          "name": "stdout",
          "text": [
            "[(1, 4), (1, 6), (1, 'm'), (2, 4), (2, 6), (2, 'm'), (3, 4), (3, 6), (3, 'm')]\n"
          ]
        }
      ]
    },
    {
      "cell_type": "code",
      "source": [
        "from itertools import permutations\n",
        "# to see all the different orderings\n",
        "permutaion=permutations(list1)\n",
        "print(permutaion)"
      ],
      "metadata": {
        "colab": {
          "base_uri": "https://localhost:8080/"
        },
        "id": "FFN8lBwVnLbv",
        "outputId": "47310336-11bf-46cf-cb6b-b3aa4acf432e"
      },
      "execution_count": null,
      "outputs": [
        {
          "output_type": "stream",
          "name": "stdout",
          "text": [
            "<itertools.permutations object at 0x7fb4163790b0>\n"
          ]
        }
      ]
    },
    {
      "cell_type": "code",
      "source": [
        "print(list(permutaion))"
      ],
      "metadata": {
        "colab": {
          "base_uri": "https://localhost:8080/"
        },
        "id": "aS2erLZnnLW8",
        "outputId": "741bee6d-1098-4326-816c-2d6cd62e6712"
      },
      "execution_count": null,
      "outputs": [
        {
          "output_type": "stream",
          "name": "stdout",
          "text": [
            "[(1, 2, 3), (1, 3, 2), (2, 1, 3), (2, 3, 1), (3, 1, 2), (3, 2, 1)]\n"
          ]
        }
      ]
    },
    {
      "cell_type": "code",
      "source": [
        "from itertools import combinations\n",
        "comb=combinations(list1,2)\n",
        "print(list(comb))"
      ],
      "metadata": {
        "colab": {
          "base_uri": "https://localhost:8080/"
        },
        "id": "Sma5mcinnLTR",
        "outputId": "dd518f9e-385a-4b25-8863-66f03cb2b0e0"
      },
      "execution_count": null,
      "outputs": [
        {
          "output_type": "stream",
          "name": "stdout",
          "text": [
            "[(1, 2), (1, 3), (2, 3)]\n"
          ]
        }
      ]
    },
    {
      "cell_type": "code",
      "source": [
        "from itertools import accumulate\n",
        "list1=[1,2,3,4,5,6]\n",
        "acc=accumulate(list1)\n",
        "print(list1)\n",
        "print(list(acc))\n",
        "\n",
        "# by default it will just add but we can do multiply as well\n",
        "\n",
        "import operator\n",
        "acc=accumulate(list1,func=operator.mul)\n",
        "print(list(acc))   #factorial"
      ],
      "metadata": {
        "colab": {
          "base_uri": "https://localhost:8080/"
        },
        "id": "3r1OPDzEnKgK",
        "outputId": "0cdb7443-5572-4ace-912a-36a674ce1f8c"
      },
      "execution_count": null,
      "outputs": [
        {
          "output_type": "stream",
          "name": "stdout",
          "text": [
            "[1, 2, 3, 4, 5, 6]\n",
            "[1, 3, 6, 10, 15, 21]\n",
            "[1, 2, 6, 24, 120, 720]\n"
          ]
        }
      ]
    },
    {
      "cell_type": "code",
      "source": [
        "from itertools import groupby\n",
        "l1=[1,2,3,4,5,65]\n",
        "\n",
        "def smaller_than_3(x):\n",
        "  return x>3\n",
        "\n",
        "group=groupby(l1,key=smaller_than_3)\n",
        "\n",
        "for key, value in group:\n",
        "  print(key,list(value))"
      ],
      "metadata": {
        "id": "2q9S6cbPnKc4",
        "colab": {
          "base_uri": "https://localhost:8080/"
        },
        "outputId": "71865f52-20cd-4e2e-995e-6fdb4914dcf0"
      },
      "execution_count": null,
      "outputs": [
        {
          "output_type": "stream",
          "name": "stdout",
          "text": [
            "False [1, 2, 3]\n",
            "True [4, 5, 65]\n"
          ]
        }
      ]
    },
    {
      "cell_type": "code",
      "source": [
        "# example2------------->\n",
        "l2=[{'name':'tina','age':20},{'name':'mina','age':20},{'name':'dika','age':12}]\n",
        "group=groupby(l2, key= lambda x: x['age'])\n",
        "for key, value in group:\n",
        "  print(key,list(value))"
      ],
      "metadata": {
        "id": "bDgCRNJ6nKZX",
        "colab": {
          "base_uri": "https://localhost:8080/"
        },
        "outputId": "cedced39-bfb0-45f6-c906-91c319a00181"
      },
      "execution_count": null,
      "outputs": [
        {
          "output_type": "stream",
          "name": "stdout",
          "text": [
            "20 [{'name': 'tina', 'age': 20}, {'name': 'mina', 'age': 20}]\n",
            "12 [{'name': 'dika', 'age': 12}]\n"
          ]
        }
      ]
    },
    {
      "cell_type": "code",
      "source": [
        "### infinite iterators---- count,repeat,cycle"
      ],
      "metadata": {
        "id": "R7yNvtdjnKUR",
        "colab": {
          "base_uri": "https://localhost:8080/"
        },
        "outputId": "54892929-c62d-4514-ba15-790881589d34"
      },
      "execution_count": null,
      "outputs": [
        {
          "output_type": "execute_result",
          "data": {
            "text/plain": [
              "20"
            ]
          },
          "metadata": {},
          "execution_count": 111
        }
      ]
    },
    {
      "cell_type": "markdown",
      "source": [
        "# Lambda function"
      ],
      "metadata": {
        "id": "qpG-TDslzroe"
      }
    },
    {
      "cell_type": "code",
      "source": [
        "add10=lambda x: x+10\n",
        "add10(88)"
      ],
      "metadata": {
        "id": "gsFYZ8elnKP9",
        "colab": {
          "base_uri": "https://localhost:8080/"
        },
        "outputId": "854e681e-d341-4f5c-b506-d119975c609c"
      },
      "execution_count": null,
      "outputs": [
        {
          "output_type": "execute_result",
          "data": {
            "text/plain": [
              "98"
            ]
          },
          "metadata": {},
          "execution_count": 112
        }
      ]
    },
    {
      "cell_type": "code",
      "source": [
        "# multiple arguments\n",
        "\n",
        "mul=lambda x,y: x*y\n",
        "mul(22,2)"
      ],
      "metadata": {
        "id": "KqVNlp2KnKIg",
        "colab": {
          "base_uri": "https://localhost:8080/"
        },
        "outputId": "b095b30d-54f0-4b10-d9a0-221002671c8f"
      },
      "execution_count": null,
      "outputs": [
        {
          "output_type": "execute_result",
          "data": {
            "text/plain": [
              "44"
            ]
          },
          "metadata": {},
          "execution_count": 113
        }
      ]
    },
    {
      "cell_type": "code",
      "source": [
        "# lamda with sorted function\n",
        "point2d=[(1,4),(2,-1),(0,0),(3,4)]\n",
        "# sorting with out lamda\n",
        "\n",
        "point2d_s=sorted(point2d)\n",
        "print(point2d)\n",
        "print(point2d_s)\n",
        "\n",
        "# sorting on the y coordinate\n",
        "point2d_s=sorted(point2d, key=lambda x:x[1])\n",
        "print(point2d_s)"
      ],
      "metadata": {
        "id": "tHY7cq-JnKDf",
        "colab": {
          "base_uri": "https://localhost:8080/"
        },
        "outputId": "d6e848a8-02ae-46c5-8052-caea694722ea"
      },
      "execution_count": null,
      "outputs": [
        {
          "output_type": "stream",
          "name": "stdout",
          "text": [
            "[(1, 4), (2, -1), (0, 0), (3, 4)]\n",
            "[(0, 0), (1, 4), (2, -1), (3, 4)]\n",
            "[(2, -1), (0, 0), (1, 4), (3, 4)]\n"
          ]
        }
      ]
    },
    {
      "cell_type": "code",
      "source": [
        "def sort(x):\n",
        "  return x[1]\n",
        "sort(point2d)"
      ],
      "metadata": {
        "id": "-4YWKm6znJ_0",
        "colab": {
          "base_uri": "https://localhost:8080/"
        },
        "outputId": "5cf94439-663d-4995-9b56-d8773f4a78c8"
      },
      "execution_count": null,
      "outputs": [
        {
          "output_type": "execute_result",
          "data": {
            "text/plain": [
              "(2, -1)"
            ]
          },
          "metadata": {},
          "execution_count": 117
        }
      ]
    },
    {
      "cell_type": "markdown",
      "source": [
        "#### using lambda with map function"
      ],
      "metadata": {
        "id": "eYvQjdyuAGTu"
      }
    },
    {
      "cell_type": "code",
      "source": [
        "l1=[1,2,3,4,5,6,7,8]\n",
        "l2=map(lambda x: x*2, l1)\n",
        "print(list(l2))"
      ],
      "metadata": {
        "id": "w9Vttr-mnJ8V",
        "colab": {
          "base_uri": "https://localhost:8080/"
        },
        "outputId": "344f26f8-dbae-4a48-f4fe-35979816d856"
      },
      "execution_count": null,
      "outputs": [
        {
          "output_type": "stream",
          "name": "stdout",
          "text": [
            "[2, 4, 6, 8, 10, 12, 14, 16]\n"
          ]
        }
      ]
    },
    {
      "cell_type": "code",
      "source": [
        "# results with list comprehension\n",
        "l2=[x*2 for x in l1]\n",
        "l2"
      ],
      "metadata": {
        "id": "561w7rRpnJ4-",
        "colab": {
          "base_uri": "https://localhost:8080/"
        },
        "outputId": "e9f28cd1-9095-4925-afaf-42ba0d3c9f0e"
      },
      "execution_count": null,
      "outputs": [
        {
          "output_type": "execute_result",
          "data": {
            "text/plain": [
              "[2, 4, 6, 8, 10, 12, 14, 16]"
            ]
          },
          "metadata": {},
          "execution_count": 123
        }
      ]
    },
    {
      "cell_type": "code",
      "source": [
        "# lambda w filter function\n",
        "\n",
        "l2=filter(lambda x: x%2==0, l1)\n",
        "print(list(l2))"
      ],
      "metadata": {
        "id": "wn3BYF7dnJ1X",
        "colab": {
          "base_uri": "https://localhost:8080/"
        },
        "outputId": "5d787d92-c845-4c88-9e67-23cd51d0a8fc"
      },
      "execution_count": null,
      "outputs": [
        {
          "output_type": "stream",
          "name": "stdout",
          "text": [
            "[2, 4, 6, 8]\n"
          ]
        }
      ]
    },
    {
      "cell_type": "markdown",
      "source": [
        "# Exceptions in Python\n",
        "##### There are syntactical error(problem in syntax)\n",
        "and exceptional errors.\n",
        "some built in exception error: typeError, modulenotfoundError, nameError, fileError etc"
      ],
      "metadata": {
        "id": "nJVh6LKgBbK1"
      }
    },
    {
      "cell_type": "markdown",
      "source": [
        "#### Raising an exception"
      ],
      "metadata": {
        "id": "rF0fm0egDGlm"
      }
    },
    {
      "cell_type": "code",
      "source": [
        "x=-5\n",
        "if x <0:\n",
        "  raise Exception(\"Be Positive\")"
      ],
      "metadata": {
        "id": "5fI-3-GunJx-",
        "colab": {
          "base_uri": "https://localhost:8080/",
          "height": 208
        },
        "outputId": "5f61de3a-9c75-4c9f-a2cf-b95a7f373299"
      },
      "execution_count": null,
      "outputs": [
        {
          "output_type": "error",
          "ename": "Exception",
          "evalue": "ignored",
          "traceback": [
            "\u001b[0;31m---------------------------------------------------------------------------\u001b[0m",
            "\u001b[0;31mException\u001b[0m                                 Traceback (most recent call last)",
            "\u001b[0;32m<ipython-input-131-86ea46f12472>\u001b[0m in \u001b[0;36m<module>\u001b[0;34m()\u001b[0m\n\u001b[1;32m      1\u001b[0m \u001b[0mx\u001b[0m\u001b[0;34m=\u001b[0m\u001b[0;34m-\u001b[0m\u001b[0;36m5\u001b[0m\u001b[0;34m\u001b[0m\u001b[0;34m\u001b[0m\u001b[0m\n\u001b[1;32m      2\u001b[0m \u001b[0;32mif\u001b[0m \u001b[0mx\u001b[0m \u001b[0;34m<\u001b[0m\u001b[0;36m0\u001b[0m\u001b[0;34m:\u001b[0m\u001b[0;34m\u001b[0m\u001b[0;34m\u001b[0m\u001b[0m\n\u001b[0;32m----> 3\u001b[0;31m   \u001b[0;32mraise\u001b[0m \u001b[0mException\u001b[0m\u001b[0;34m(\u001b[0m\u001b[0;34m\"Be Positive\"\u001b[0m\u001b[0;34m)\u001b[0m\u001b[0;34m\u001b[0m\u001b[0;34m\u001b[0m\u001b[0m\n\u001b[0m",
            "\u001b[0;31mException\u001b[0m: Be Positive"
          ]
        }
      ]
    },
    {
      "cell_type": "markdown",
      "source": [
        "#### Assertion Error"
      ],
      "metadata": {
        "id": "ly2ylbPpDpGh"
      }
    },
    {
      "cell_type": "code",
      "source": [
        "x=-5\n",
        "assert(x>=0), 'Be Positive'"
      ],
      "metadata": {
        "colab": {
          "base_uri": "https://localhost:8080/",
          "height": 190
        },
        "id": "64XXIjNPB4XQ",
        "outputId": "6aaf28ff-ad2d-4a8e-e993-988d70133b11"
      },
      "execution_count": null,
      "outputs": [
        {
          "output_type": "error",
          "ename": "AssertionError",
          "evalue": "ignored",
          "traceback": [
            "\u001b[0;31m---------------------------------------------------------------------------\u001b[0m",
            "\u001b[0;31mAssertionError\u001b[0m                            Traceback (most recent call last)",
            "\u001b[0;32m<ipython-input-132-11e7670f8595>\u001b[0m in \u001b[0;36m<module>\u001b[0;34m()\u001b[0m\n\u001b[1;32m      1\u001b[0m \u001b[0mx\u001b[0m\u001b[0;34m=\u001b[0m\u001b[0;34m-\u001b[0m\u001b[0;36m5\u001b[0m\u001b[0;34m\u001b[0m\u001b[0;34m\u001b[0m\u001b[0m\n\u001b[0;32m----> 2\u001b[0;31m \u001b[0;32massert\u001b[0m\u001b[0;34m(\u001b[0m\u001b[0mx\u001b[0m\u001b[0;34m>=\u001b[0m\u001b[0;36m0\u001b[0m\u001b[0;34m)\u001b[0m\u001b[0;34m,\u001b[0m \u001b[0;34m'Be Positive'\u001b[0m\u001b[0;34m\u001b[0m\u001b[0;34m\u001b[0m\u001b[0m\n\u001b[0m",
            "\u001b[0;31mAssertionError\u001b[0m: Be Positive"
          ]
        }
      ]
    },
    {
      "cell_type": "code",
      "source": [
        "try:\n",
        " a=5/0\n",
        "except:\n",
        "  print('an error occured')"
      ],
      "metadata": {
        "colab": {
          "base_uri": "https://localhost:8080/"
        },
        "id": "OS5sEStDB4ak",
        "outputId": "b11bf770-b400-44c8-be13-21737cee9c98"
      },
      "execution_count": null,
      "outputs": [
        {
          "output_type": "stream",
          "name": "stdout",
          "text": [
            "an error occured\n"
          ]
        }
      ]
    },
    {
      "cell_type": "markdown",
      "source": [
        "#### to catch the type of exception"
      ],
      "metadata": {
        "id": "CtkUCNIkEWLm"
      }
    },
    {
      "cell_type": "code",
      "source": [
        "try:\n",
        " a=5/0\n",
        "except Exception as e:\n",
        "  print(e)"
      ],
      "metadata": {
        "colab": {
          "base_uri": "https://localhost:8080/"
        },
        "id": "WIqtEqA7B4Ty",
        "outputId": "566032d1-40b3-44a2-b49e-4e83c1ce0972"
      },
      "execution_count": null,
      "outputs": [
        {
          "output_type": "stream",
          "name": "stdout",
          "text": [
            "division by zero\n"
          ]
        }
      ]
    },
    {
      "cell_type": "code",
      "source": [
        "try:\n",
        "  b=5+'s'\n",
        "  a=5/1\n",
        "except TypeError as e:\n",
        "  print(e)\n",
        "except ZeroDivisionError as e:\n",
        "  print(e)\n",
        "finally:\n",
        "  print(\"always gets printed no matter what\")\n",
        "\n",
        "try:\n",
        "    b=5+5\n",
        "    a=5/0\n",
        "except TypeError as e:\n",
        "  print(e)\n",
        "except ZeroDivisionError as e:\n",
        "  print(e)\n",
        "finally:\n",
        "  print(\"always gets printed no matter what\")\n",
        "\n",
        "try:\n",
        "    b=5+5\n",
        "    a=5/1\n",
        "except TypeError as e:\n",
        "  print(e)\n",
        "except ZeroDivisionError as e:\n",
        "  print(e)\n",
        "else:\n",
        "  print(\"seems just good\")\n",
        "finally:\n",
        "  print(\"always gets printed no matter what\")"
      ],
      "metadata": {
        "colab": {
          "base_uri": "https://localhost:8080/"
        },
        "id": "uWClugEVB4QV",
        "outputId": "67ecdf88-7b62-40d5-b7a4-4ab61121041f"
      },
      "execution_count": null,
      "outputs": [
        {
          "output_type": "stream",
          "name": "stdout",
          "text": [
            "unsupported operand type(s) for +: 'int' and 'str'\n",
            "always gets printed no matter what\n",
            "division by zero\n",
            "always gets printed no matter what\n",
            "seems just good\n",
            "always gets printed no matter what\n"
          ]
        }
      ]
    },
    {
      "cell_type": "markdown",
      "source": [
        "### Defining our own exceptions"
      ],
      "metadata": {
        "id": "DppC-hkUGzg9"
      }
    },
    {
      "cell_type": "code",
      "source": [
        "class ValueHighError(Exception):\n",
        "  pass\n",
        "\n",
        "def test_value(x):\n",
        "  if x>100:\n",
        "    raise ValueHighError('Value too high')\n",
        "\n",
        "test_value(200)"
      ],
      "metadata": {
        "id": "W2zdkqmHnJub",
        "colab": {
          "base_uri": "https://localhost:8080/",
          "height": 336
        },
        "outputId": "08a17983-87b6-4bd1-81f8-c4974c3a7897"
      },
      "execution_count": null,
      "outputs": [
        {
          "output_type": "error",
          "ename": "ValueHighError",
          "evalue": "ignored",
          "traceback": [
            "\u001b[0;31m---------------------------------------------------------------------------\u001b[0m",
            "\u001b[0;31mValueHighError\u001b[0m                            Traceback (most recent call last)",
            "\u001b[0;32m<ipython-input-146-bfc6944e7009>\u001b[0m in \u001b[0;36m<module>\u001b[0;34m()\u001b[0m\n\u001b[1;32m      6\u001b[0m     \u001b[0;32mraise\u001b[0m \u001b[0mValueHighError\u001b[0m\u001b[0;34m(\u001b[0m\u001b[0;34m'Value too high'\u001b[0m\u001b[0;34m)\u001b[0m\u001b[0;34m\u001b[0m\u001b[0;34m\u001b[0m\u001b[0m\n\u001b[1;32m      7\u001b[0m \u001b[0;34m\u001b[0m\u001b[0m\n\u001b[0;32m----> 8\u001b[0;31m \u001b[0mtest_value\u001b[0m\u001b[0;34m(\u001b[0m\u001b[0;36m200\u001b[0m\u001b[0;34m)\u001b[0m\u001b[0;34m\u001b[0m\u001b[0;34m\u001b[0m\u001b[0m\n\u001b[0m",
            "\u001b[0;32m<ipython-input-146-bfc6944e7009>\u001b[0m in \u001b[0;36mtest_value\u001b[0;34m(x)\u001b[0m\n\u001b[1;32m      4\u001b[0m \u001b[0;32mdef\u001b[0m \u001b[0mtest_value\u001b[0m\u001b[0;34m(\u001b[0m\u001b[0mx\u001b[0m\u001b[0;34m)\u001b[0m\u001b[0;34m:\u001b[0m\u001b[0;34m\u001b[0m\u001b[0;34m\u001b[0m\u001b[0m\n\u001b[1;32m      5\u001b[0m   \u001b[0;32mif\u001b[0m \u001b[0mx\u001b[0m\u001b[0;34m>\u001b[0m\u001b[0;36m100\u001b[0m\u001b[0;34m:\u001b[0m\u001b[0;34m\u001b[0m\u001b[0;34m\u001b[0m\u001b[0m\n\u001b[0;32m----> 6\u001b[0;31m     \u001b[0;32mraise\u001b[0m \u001b[0mValueHighError\u001b[0m\u001b[0;34m(\u001b[0m\u001b[0;34m'Value too high'\u001b[0m\u001b[0;34m)\u001b[0m\u001b[0;34m\u001b[0m\u001b[0;34m\u001b[0m\u001b[0m\n\u001b[0m\u001b[1;32m      7\u001b[0m \u001b[0;34m\u001b[0m\u001b[0m\n\u001b[1;32m      8\u001b[0m \u001b[0mtest_value\u001b[0m\u001b[0;34m(\u001b[0m\u001b[0;36m200\u001b[0m\u001b[0;34m)\u001b[0m\u001b[0;34m\u001b[0m\u001b[0;34m\u001b[0m\u001b[0m\n",
            "\u001b[0;31mValueHighError\u001b[0m: Value too high"
          ]
        }
      ]
    },
    {
      "cell_type": "code",
      "source": [
        "class ValueHighError(Exception):\n",
        "  pass\n",
        "\n",
        "def test_value(x):\n",
        "   if x>100:\n",
        "    raise ValueHighError('Value too high')\n",
        "\n",
        "\n",
        "try :\n",
        "    test_value(200)\n",
        "except ValueHighError as e:\n",
        "    print(e)"
      ],
      "metadata": {
        "id": "5xjebT7rnJrO",
        "colab": {
          "base_uri": "https://localhost:8080/"
        },
        "outputId": "41e75d98-35f3-447b-f93d-ec6c2508cb9c"
      },
      "execution_count": null,
      "outputs": [
        {
          "output_type": "stream",
          "name": "stdout",
          "text": [
            "Value too high\n"
          ]
        }
      ]
    },
    {
      "cell_type": "code",
      "source": [
        "class ValueLowError(Exception):\n",
        "  def __init__(self,message,value):\n",
        "    self.message=message\n",
        "    self.value=value\n",
        "def test_value(x):\n",
        "    if x<5:\n",
        "      raise ValueLowError('Value too low',x)\n",
        "\n",
        "try:\n",
        "  test_value(1)\n",
        "except ValueLowError as e:\n",
        "  print(e.message,e.value)\n"
      ],
      "metadata": {
        "id": "0GH0AbIMnJnn",
        "colab": {
          "base_uri": "https://localhost:8080/"
        },
        "outputId": "a37fbe35-3408-4061-caf0-f272af155d85"
      },
      "execution_count": null,
      "outputs": [
        {
          "output_type": "stream",
          "name": "stdout",
          "text": [
            "Value too low 1\n"
          ]
        }
      ]
    },
    {
      "cell_type": "markdown",
      "source": [
        "# converting a python dictionary into a json object"
      ],
      "metadata": {
        "id": "8zzAGkUUB1py"
      }
    },
    {
      "cell_type": "code",
      "source": [
        "import json\n",
        "person = {\"name\": \"John\", \"age\": 30, \"city\": \"New York\", \"hasChildren\": False, \"titles\": [\"engineer\", \"programmer\"]}\n",
        "\n",
        "person_json=json.dumps(person)\n",
        "print(person_json)\n",
        "# converting back to python dictionaries\n",
        "\n",
        "person=json.loads(person_json)\n",
        "print(person)"
      ],
      "metadata": {
        "id": "X6xiHXi4nJju",
        "colab": {
          "base_uri": "https://localhost:8080/"
        },
        "outputId": "32f49a35-21e3-40d6-c0bb-8e05359a2fab"
      },
      "execution_count": null,
      "outputs": [
        {
          "output_type": "stream",
          "name": "stdout",
          "text": [
            "{\"name\": \"John\", \"age\": 30, \"city\": \"New York\", \"hasChildren\": false, \"titles\": [\"engineer\", \"programmer\"]}\n",
            "{'name': 'John', 'age': 30, 'city': 'New York', 'hasChildren': False, 'titles': ['engineer', 'programmer']}\n"
          ]
        }
      ]
    },
    {
      "cell_type": "markdown",
      "source": [
        "# Random Numbers"
      ],
      "metadata": {
        "id": "Q0camU_9Fsyn"
      }
    },
    {
      "cell_type": "code",
      "source": [
        "import random\n",
        "a=random.random()\n",
        "a"
      ],
      "metadata": {
        "id": "4gAyys_6nJf9",
        "colab": {
          "base_uri": "https://localhost:8080/"
        },
        "outputId": "21f59bf0-6081-43c9-b5c4-236fddef4d13"
      },
      "execution_count": null,
      "outputs": [
        {
          "output_type": "execute_result",
          "data": {
            "text/plain": [
              "0.15299113740624026"
            ]
          },
          "metadata": {},
          "execution_count": 3
        }
      ]
    },
    {
      "cell_type": "code",
      "source": [
        "a=random.uniform(1,10)\n",
        "a"
      ],
      "metadata": {
        "id": "VbP7y-AanJcr",
        "colab": {
          "base_uri": "https://localhost:8080/"
        },
        "outputId": "05eedcfe-b58d-490b-a7e6-ace6227e8442"
      },
      "execution_count": null,
      "outputs": [
        {
          "output_type": "execute_result",
          "data": {
            "text/plain": [
              "4.436882507151353"
            ]
          },
          "metadata": {},
          "execution_count": 4
        }
      ]
    },
    {
      "cell_type": "code",
      "source": [
        "a=random.randint(1,10)\n",
        "a"
      ],
      "metadata": {
        "id": "3Fk5UGJsnJZb",
        "colab": {
          "base_uri": "https://localhost:8080/"
        },
        "outputId": "6036c5b3-34e3-4665-f06d-194df9567c53"
      },
      "execution_count": null,
      "outputs": [
        {
          "output_type": "execute_result",
          "data": {
            "text/plain": [
              "9"
            ]
          },
          "metadata": {},
          "execution_count": 5
        }
      ]
    },
    {
      "cell_type": "code",
      "source": [
        "a=random.randrange(1,10)  #upper bound is not included\n",
        "a"
      ],
      "metadata": {
        "colab": {
          "base_uri": "https://localhost:8080/"
        },
        "id": "lTxSiXMuFwwU",
        "outputId": "f51a1a7e-65cc-40fd-f14a-77162abf2adb"
      },
      "execution_count": null,
      "outputs": [
        {
          "output_type": "execute_result",
          "data": {
            "text/plain": [
              "9"
            ]
          },
          "metadata": {},
          "execution_count": 6
        }
      ]
    },
    {
      "cell_type": "code",
      "source": [
        "a=random.normalvariate(0,1)  # where 1 is the std deviation and 0 is the mean\n",
        "a"
      ],
      "metadata": {
        "colab": {
          "base_uri": "https://localhost:8080/"
        },
        "id": "2ht1hqegFwrX",
        "outputId": "fb6cdaa1-eb6c-473b-8e8b-0b297eec6649"
      },
      "execution_count": null,
      "outputs": [
        {
          "output_type": "execute_result",
          "data": {
            "text/plain": [
              "0.9054027501590254"
            ]
          },
          "metadata": {},
          "execution_count": 7
        }
      ]
    },
    {
      "cell_type": "markdown",
      "source": [
        "#### importing random elements from the list"
      ],
      "metadata": {
        "id": "ykHQkcHJHMvR"
      }
    },
    {
      "cell_type": "code",
      "source": [
        "li=list(\"ABCDEFGHI\")\n",
        "print(li)\n",
        "choice=random.choice(li)\n",
        "choice"
      ],
      "metadata": {
        "colab": {
          "base_uri": "https://localhost:8080/",
          "height": 54
        },
        "id": "AMqTzLubFwn8",
        "outputId": "6b9514aa-b50e-4f91-f4f0-ce37962e96a3"
      },
      "execution_count": null,
      "outputs": [
        {
          "output_type": "stream",
          "name": "stdout",
          "text": [
            "['A', 'B', 'C', 'D', 'E', 'F', 'G', 'H', 'I']\n"
          ]
        },
        {
          "output_type": "execute_result",
          "data": {
            "text/plain": [
              "'G'"
            ],
            "application/vnd.google.colaboratory.intrinsic+json": {
              "type": "string"
            }
          },
          "metadata": {},
          "execution_count": 9
        }
      ]
    },
    {
      "cell_type": "code",
      "source": [
        "choice=random.sample(li,4)\n",
        "choice"
      ],
      "metadata": {
        "colab": {
          "base_uri": "https://localhost:8080/"
        },
        "id": "Ik8DIC9oFwkg",
        "outputId": "8e52ee5f-3ea2-4461-9d7c-00aac75c396f"
      },
      "execution_count": null,
      "outputs": [
        {
          "output_type": "execute_result",
          "data": {
            "text/plain": [
              "['I', 'H', 'A', 'F']"
            ]
          },
          "metadata": {},
          "execution_count": 10
        }
      ]
    },
    {
      "cell_type": "code",
      "source": [
        "random.shuffle(li)"
      ],
      "metadata": {
        "id": "KYeB3ON0Fwhe"
      },
      "execution_count": null,
      "outputs": []
    },
    {
      "cell_type": "code",
      "source": [
        "li"
      ],
      "metadata": {
        "colab": {
          "base_uri": "https://localhost:8080/"
        },
        "id": "V5hgwAGdFweD",
        "outputId": "c13d8dc8-ba49-4d8e-eb65-69f1dccb9b66"
      },
      "execution_count": null,
      "outputs": [
        {
          "output_type": "execute_result",
          "data": {
            "text/plain": [
              "['C', 'I', 'F', 'D', 'B', 'H', 'E', 'G', 'A']"
            ]
          },
          "metadata": {},
          "execution_count": 12
        }
      ]
    },
    {
      "cell_type": "markdown",
      "source": [
        "#### Reproducing data with random seed function"
      ],
      "metadata": {
        "id": "SBmDbibXINb-"
      }
    },
    {
      "cell_type": "code",
      "source": [
        "random.seed(1)\n",
        "print(random.random())\n",
        "\n",
        "random.seed(2)\n",
        "print(random.random())"
      ],
      "metadata": {
        "colab": {
          "base_uri": "https://localhost:8080/"
        },
        "id": "BsItI9LiFwam",
        "outputId": "d9ed916a-c04f-4c7c-dcd6-a8634e5f9419"
      },
      "execution_count": null,
      "outputs": [
        {
          "output_type": "stream",
          "name": "stdout",
          "text": [
            "0.13436424411240122\n",
            "0.9560342718892494\n"
          ]
        }
      ]
    },
    {
      "cell_type": "code",
      "source": [
        "random.seed(1)\n",
        "print(random.random())"
      ],
      "metadata": {
        "colab": {
          "base_uri": "https://localhost:8080/"
        },
        "id": "CkWgtetpFwWb",
        "outputId": "27a7f90c-5236-4104-9140-687545417f22"
      },
      "execution_count": null,
      "outputs": [
        {
          "output_type": "stream",
          "name": "stdout",
          "text": [
            "0.13436424411240122\n"
          ]
        }
      ]
    },
    {
      "cell_type": "code",
      "source": [
        "import secrets #has only three functions, good for security\n",
        "print(secrets.randbits(4))"
      ],
      "metadata": {
        "colab": {
          "base_uri": "https://localhost:8080/"
        },
        "id": "Zz6IiNfqFwSx",
        "outputId": "8e1700fb-87b7-49d5-faa5-b8890260438b"
      },
      "execution_count": null,
      "outputs": [
        {
          "output_type": "stream",
          "name": "stdout",
          "text": [
            "6\n"
          ]
        }
      ]
    },
    {
      "cell_type": "markdown",
      "source": [
        "## numpy"
      ],
      "metadata": {
        "id": "-KcNwKpFUJs7"
      }
    },
    {
      "cell_type": "code",
      "source": [
        "import numpy as np\n",
        "a=np.random.rand(3,2)\n",
        "a"
      ],
      "metadata": {
        "colab": {
          "base_uri": "https://localhost:8080/"
        },
        "id": "q4YLKSa9FwOP",
        "outputId": "92b6d6b0-be74-4cfb-a56f-6fa2c20b0f78"
      },
      "execution_count": null,
      "outputs": [
        {
          "output_type": "execute_result",
          "data": {
            "text/plain": [
              "array([[0.64493925, 0.80382493],\n",
              "       [0.06451118, 0.71956891],\n",
              "       [0.83119236, 0.65634573]])"
            ]
          },
          "metadata": {},
          "execution_count": 18
        }
      ]
    },
    {
      "cell_type": "code",
      "source": [
        "a=np.random.randint(1,10,(3,4))\n",
        "a"
      ],
      "metadata": {
        "colab": {
          "base_uri": "https://localhost:8080/"
        },
        "id": "5fXMi27MUSV0",
        "outputId": "979cc0cf-9627-46aa-8b61-dddcd9ae5e80"
      },
      "execution_count": null,
      "outputs": [
        {
          "output_type": "execute_result",
          "data": {
            "text/plain": [
              "array([[7, 2, 7, 8],\n",
              "       [2, 5, 6, 9],\n",
              "       [2, 8, 1, 8]])"
            ]
          },
          "metadata": {},
          "execution_count": 19
        }
      ]
    },
    {
      "cell_type": "code",
      "source": [
        "a=np.array([[1,2,3],[4,5,6],[7,8,9]])\n",
        "a"
      ],
      "metadata": {
        "colab": {
          "base_uri": "https://localhost:8080/"
        },
        "id": "EA6Z_l7hUSRf",
        "outputId": "7b98c956-d36f-47a7-ad46-d79086d512d9"
      },
      "execution_count": null,
      "outputs": [
        {
          "output_type": "execute_result",
          "data": {
            "text/plain": [
              "array([[1, 2, 3],\n",
              "       [4, 5, 6],\n",
              "       [7, 8, 9]])"
            ]
          },
          "metadata": {},
          "execution_count": 22
        }
      ]
    },
    {
      "cell_type": "code",
      "source": [
        "a.shape"
      ],
      "metadata": {
        "colab": {
          "base_uri": "https://localhost:8080/"
        },
        "id": "SU1B3rvBUSN_",
        "outputId": "c769ff24-2004-4c75-84d8-5ddf935a7a76"
      },
      "execution_count": null,
      "outputs": [
        {
          "output_type": "execute_result",
          "data": {
            "text/plain": [
              "(3, 3)"
            ]
          },
          "metadata": {},
          "execution_count": 23
        }
      ]
    },
    {
      "cell_type": "code",
      "source": [
        "type(a)"
      ],
      "metadata": {
        "colab": {
          "base_uri": "https://localhost:8080/"
        },
        "id": "Ls1ZgKsgUSKA",
        "outputId": "d8a1093f-8bbc-494d-b601-376db5c6bc1f"
      },
      "execution_count": null,
      "outputs": [
        {
          "output_type": "execute_result",
          "data": {
            "text/plain": [
              "numpy.ndarray"
            ]
          },
          "metadata": {},
          "execution_count": 24
        }
      ]
    },
    {
      "cell_type": "code",
      "source": [
        "a.ndim"
      ],
      "metadata": {
        "colab": {
          "base_uri": "https://localhost:8080/"
        },
        "id": "rTAQjt0VUSG8",
        "outputId": "3f402bb0-e7a6-4332-f60d-ea639623cc86"
      },
      "execution_count": null,
      "outputs": [
        {
          "output_type": "execute_result",
          "data": {
            "text/plain": [
              "2"
            ]
          },
          "metadata": {},
          "execution_count": 27
        }
      ]
    },
    {
      "cell_type": "code",
      "source": [
        "a=np.array([1,2,3])\n",
        "a"
      ],
      "metadata": {
        "colab": {
          "base_uri": "https://localhost:8080/"
        },
        "id": "BAz8KULlUSCr",
        "outputId": "26dc4647-7d7f-494a-ad14-03b304a4d90a"
      },
      "execution_count": null,
      "outputs": [
        {
          "output_type": "execute_result",
          "data": {
            "text/plain": [
              "array([1, 2, 3])"
            ]
          },
          "metadata": {},
          "execution_count": 31
        }
      ]
    },
    {
      "cell_type": "code",
      "source": [
        "np.random.seed(1)\n",
        "print(np.random.randint(3,14,(3,3)))"
      ],
      "metadata": {
        "colab": {
          "base_uri": "https://localhost:8080/"
        },
        "id": "i_rKIhaxUR9B",
        "outputId": "1a9d5b36-3626-409f-a758-3fe435151b66"
      },
      "execution_count": null,
      "outputs": [
        {
          "output_type": "stream",
          "name": "stdout",
          "text": [
            "[[ 8 11 12]\n",
            " [ 8  3  3]\n",
            " [ 4 10  9]]\n"
          ]
        }
      ]
    },
    {
      "cell_type": "markdown",
      "source": [
        "# Decorators in Python"
      ],
      "metadata": {
        "id": "Oc29062FV-BR"
      }
    },
    {
      "cell_type": "markdown",
      "source": [
        "there are two types of decorators 1. class decorator 2. function decorator"
      ],
      "metadata": {
        "id": "hzqBvR-RXNj4"
      }
    },
    {
      "cell_type": "markdown",
      "source": [
        "-- extends the behaviour of the function with decorator"
      ],
      "metadata": {
        "id": "A-0ZlOKTYrRg"
      }
    },
    {
      "cell_type": "code",
      "source": [
        "def start_end(func):\n",
        "  def wrapper():\n",
        "    print(\"Start\")\n",
        "    func()\n",
        "    print('End')\n",
        "  return wrapper\n",
        "\n",
        "def print_name():\n",
        "  print(\"Alex\")\n",
        "\n",
        "print_=start_end(print_name)\n",
        "print_()\n"
      ],
      "metadata": {
        "colab": {
          "base_uri": "https://localhost:8080/"
        },
        "id": "ofnUWxN-UR5q",
        "outputId": "79db0aa8-35f3-48ed-b19a-c827563b4260"
      },
      "execution_count": null,
      "outputs": [
        {
          "output_type": "stream",
          "name": "stdout",
          "text": [
            "Start\n",
            "Alex\n",
            "End\n"
          ]
        }
      ]
    },
    {
      "cell_type": "code",
      "source": [
        "def start_end(func):\n",
        "  def wrapper():\n",
        "    print(\"Start\")\n",
        "    func()\n",
        "    print('End')\n",
        "  return wrapper\n",
        "\n",
        "\n",
        "@start_end\n",
        "def print_name():\n",
        "  print(\"Alex\")\n",
        "\n",
        "print_name()\n",
        "\n"
      ],
      "metadata": {
        "colab": {
          "base_uri": "https://localhost:8080/"
        },
        "id": "Z6CT_zzQWDqy",
        "outputId": "19f9aae1-4de1-48d7-e6b4-edeb81310ee5"
      },
      "execution_count": null,
      "outputs": [
        {
          "output_type": "stream",
          "name": "stdout",
          "text": [
            "Start\n",
            "Alex\n",
            "End\n"
          ]
        }
      ]
    },
    {
      "cell_type": "code",
      "source": [
        "def start_end(func):\n",
        "    print(\"Start\")\n",
        "    func()\n",
        "    print('End')\n",
        "  \n",
        "\n",
        "\n",
        "@start_end\n",
        "def print_name():\n",
        "  print(\"Alex\")\n",
        "\n"
      ],
      "metadata": {
        "colab": {
          "base_uri": "https://localhost:8080/"
        },
        "id": "no5T4wQdWDna",
        "outputId": "781818a5-bd46-4092-9227-f33a057415c0"
      },
      "execution_count": null,
      "outputs": [
        {
          "output_type": "stream",
          "name": "stdout",
          "text": [
            "Start\n",
            "Alex\n",
            "End\n"
          ]
        }
      ]
    },
    {
      "cell_type": "code",
      "source": [
        "def start_end(func):\n",
        "  def wrapper(*args,**kwargs):\n",
        "    print(\"Start\")\n",
        "    result=func(*args,**kwargs)\n",
        "    print('End')\n",
        "    return result\n",
        "  return wrapper\n",
        "\n",
        "\n",
        "@start_end\n",
        "def print_name(x):\n",
        "  return x+10\n",
        "\n",
        "result=print_name(12)\n",
        "result"
      ],
      "metadata": {
        "colab": {
          "base_uri": "https://localhost:8080/"
        },
        "id": "_yeB4rgkWDjY",
        "outputId": "6c5560b7-055e-4398-e1be-0c1c3b317240"
      },
      "execution_count": null,
      "outputs": [
        {
          "output_type": "stream",
          "name": "stdout",
          "text": [
            "Start\n",
            "End\n"
          ]
        },
        {
          "output_type": "execute_result",
          "data": {
            "text/plain": [
              "22"
            ]
          },
          "metadata": {},
          "execution_count": 48
        }
      ]
    },
    {
      "cell_type": "markdown",
      "source": [
        "### make a decorator to repeat a function n times"
      ],
      "metadata": {
        "id": "hQLYx9X4cP6L"
      }
    },
    {
      "cell_type": "code",
      "source": [
        "import functools\n",
        "def repeat(n):\n",
        "  def repeat_decorator(func):\n",
        "     \n",
        "     @functools.wraps(func)\n",
        "     def wrapper(*args,**kwargs):\n",
        "       for _ in range(n):\n",
        "         result=func(*args,**kwargs)\n",
        "       return result\n",
        "     return wrapper\n",
        "  return repeat_decorator\n",
        "\n",
        "\n",
        "@repeat(n=3)\n",
        "def greet(name):\n",
        "  print(f'Hello {name}')\n",
        "\n",
        "greet('Ushna')"
      ],
      "metadata": {
        "colab": {
          "base_uri": "https://localhost:8080/"
        },
        "id": "yv7zXfbyWDf6",
        "outputId": "10125d1e-a3c1-49bf-ef68-1b12bfd45914"
      },
      "execution_count": null,
      "outputs": [
        {
          "output_type": "stream",
          "name": "stdout",
          "text": [
            "Hello Ushna\n",
            "Hello Ushna\n",
            "Hello Ushna\n"
          ]
        }
      ]
    },
    {
      "cell_type": "markdown",
      "source": [
        "### Nested Decorators"
      ],
      "metadata": {
        "id": "7Fz_ho6feVle"
      }
    },
    {
      "cell_type": "code",
      "source": [
        "def debug(func):\n",
        "    @functools.wraps(func)\n",
        "    def wrapper(*args, **kwargs):\n",
        "        args_repr = [repr(a) for a in args]\n",
        "        kwargs_repr = [f\"{k}={v!r}\" for k, v in kwargs.items()]\n",
        "        signature = \", \".join(args_repr + kwargs_repr)\n",
        "        print(f\"Calling {func.__name__}({signature})\")\n",
        "        result = func(*args, **kwargs)\n",
        "        print(f\"{func.__name__!r} returned {result!r}\")\n",
        "        return result\n",
        "    return wrapper\n",
        "\n",
        "def start_end_decorator_4(func):\n",
        "    \n",
        "    @functools.wraps(func)\n",
        "    def wrapper(*args, **kwargs):\n",
        "        print('Start')\n",
        "        result = func(*args, **kwargs)\n",
        "        print('End')\n",
        "        return result\n",
        "    return wrapper\n",
        "\n",
        "@debug\n",
        "@start_end_decorator_4\n",
        "def say_hello(name):\n",
        "    greeting = f'Hello {name}'\n",
        "    print(greeting)\n",
        "    return greeting\n",
        "\n",
        "# now `debug` is executed first and calls `@start_end_decorator_4`, which then calls `say_hello`\n",
        "say_hello(name='Alex')"
      ],
      "metadata": {
        "colab": {
          "base_uri": "https://localhost:8080/",
          "height": 127
        },
        "id": "ZqSHvP0NWDcd",
        "outputId": "6dbc9959-fc06-40a5-8bf9-30f32fba1546"
      },
      "execution_count": null,
      "outputs": [
        {
          "output_type": "stream",
          "name": "stdout",
          "text": [
            "Calling say_hello(name='Alex')\n",
            "Start\n",
            "Hello Alex\n",
            "End\n",
            "'say_hello' returned 'Hello Alex'\n"
          ]
        },
        {
          "output_type": "execute_result",
          "data": {
            "text/plain": [
              "'Hello Alex'"
            ],
            "application/vnd.google.colaboratory.intrinsic+json": {
              "type": "string"
            }
          },
          "metadata": {},
          "execution_count": 51
        }
      ]
    },
    {
      "cell_type": "markdown",
      "source": [
        "## Class Decorators"
      ],
      "metadata": {
        "id": "SrfhUI_RjK5l"
      }
    },
    {
      "cell_type": "code",
      "source": [
        "\n",
        "class CountCalls:\n",
        "    # the init needs to have the func as argument and stores it\n",
        "    def __init__(self, func):\n",
        "        functools.update_wrapper(self, func)\n",
        "        self.func = func\n",
        "        self.num_calls = 0\n",
        "    \n",
        "    # extend functionality, execute function, and return the result\n",
        "    def __call__(self, *args, **kwargs):\n",
        "        self.num_calls += 1\n",
        "        print(f\"Call {self.num_calls} of {self.func.__name__!r}\")\n",
        "        return self.func(*args, **kwargs)\n",
        "\n",
        "@CountCalls\n",
        "def say_hello(num):\n",
        "    print(\"Hello!\")\n",
        "    \n",
        "say_hello(5)\n",
        "say_hello(5)"
      ],
      "metadata": {
        "colab": {
          "base_uri": "https://localhost:8080/"
        },
        "id": "zM_S-PuKWDYg",
        "outputId": "df0c2237-095d-48a3-9dfb-7a92d0f0376a"
      },
      "execution_count": null,
      "outputs": [
        {
          "output_type": "stream",
          "name": "stdout",
          "text": [
            "Call 1 of 'say_hello'\n",
            "Hello!\n",
            "Call 2 of 'say_hello'\n",
            "Hello!\n"
          ]
        }
      ]
    },
    {
      "cell_type": "markdown",
      "source": [
        "## Some typical use cases\n",
        "Use a timer decorator to calculate the execution time of a function\n",
        "Use a debug decorator to print out some more information about the called function and its arguments\n",
        "Use a check decorator to check if the arguments fulfill some requirements and adapt the bevaviour accordingly\n",
        "Register functions (plugins)\n",
        "Slow down code with time.sleep() to check network behaviour\n",
        "Cache the return values for memoization (https://en.wikipedia.org/wiki/Memoization)\n",
        "Add information or update a state"
      ],
      "metadata": {
        "id": "4ciBrL8kjdJQ"
      }
    },
    {
      "cell_type": "markdown",
      "source": [
        "# Generators"
      ],
      "metadata": {
        "id": "D3b3KJFBo5YP"
      }
    },
    {
      "cell_type": "code",
      "source": [
        "def mygenerators():\n",
        "  yield 1\n",
        "  yield 2\n",
        "  yield 3\n",
        "\n",
        "g=mygenerators()\n",
        "\n",
        "for i in g:\n",
        "  print(i)\n",
        "\n"
      ],
      "metadata": {
        "colab": {
          "base_uri": "https://localhost:8080/"
        },
        "id": "_PI58E_9WDUy",
        "outputId": "ec898c5d-bfc1-49e7-827e-bdff53194c2f"
      },
      "execution_count": null,
      "outputs": [
        {
          "output_type": "stream",
          "name": "stdout",
          "text": [
            "1\n",
            "2\n",
            "3\n"
          ]
        }
      ]
    },
    {
      "cell_type": "code",
      "source": [
        "def mygenerators():\n",
        "  yield 1\n",
        "  yield 2\n",
        "  yield 3\n",
        "\n",
        "g=mygenerators()\n",
        "sorted(g)"
      ],
      "metadata": {
        "colab": {
          "base_uri": "https://localhost:8080/"
        },
        "id": "yYK10afVWDQs",
        "outputId": "eab46080-7fdd-47da-d8ca-e1ea63dcfa0d"
      },
      "execution_count": null,
      "outputs": [
        {
          "output_type": "execute_result",
          "data": {
            "text/plain": [
              "[1, 2, 3]"
            ]
          },
          "metadata": {},
          "execution_count": 61
        }
      ]
    },
    {
      "cell_type": "code",
      "source": [
        "g=mygenerators()\n",
        "sum(g)"
      ],
      "metadata": {
        "colab": {
          "base_uri": "https://localhost:8080/"
        },
        "id": "IWzo9qlhWDNa",
        "outputId": "77c60ba4-65ca-4866-d7e6-3ab3e3611127"
      },
      "execution_count": null,
      "outputs": [
        {
          "output_type": "execute_result",
          "data": {
            "text/plain": [
              "6"
            ]
          },
          "metadata": {},
          "execution_count": 63
        }
      ]
    },
    {
      "cell_type": "code",
      "source": [
        "def countdown(num):\n",
        "  print('Starting')\n",
        "  while num>=0:\n",
        "    yield num\n",
        "    num -=1\n",
        "\n",
        "c=countdown(4)\n",
        "value=next(c)\n",
        "print(next(c))"
      ],
      "metadata": {
        "colab": {
          "base_uri": "https://localhost:8080/"
        },
        "id": "Dio0SCHgUR1j",
        "outputId": "b93b0327-b6eb-4cdb-b2ca-268060c44b8d"
      },
      "execution_count": null,
      "outputs": [
        {
          "output_type": "stream",
          "name": "stdout",
          "text": [
            "Starting\n",
            "3\n"
          ]
        }
      ]
    },
    {
      "cell_type": "code",
      "source": [
        "print(next(c))"
      ],
      "metadata": {
        "colab": {
          "base_uri": "https://localhost:8080/"
        },
        "id": "GERAXTRGURx4",
        "outputId": "6618daa6-d17c-4f16-a8ff-7c934156f77c"
      },
      "execution_count": null,
      "outputs": [
        {
          "output_type": "stream",
          "name": "stdout",
          "text": [
            "1\n"
          ]
        }
      ]
    },
    {
      "cell_type": "code",
      "source": [
        "def first_n(n):\n",
        "  num=0\n",
        "  nums=[]\n",
        "  while num<n:\n",
        "    nums.append(num)\n",
        "    num +=1\n",
        "  return nums\n",
        "\n",
        "print(sum(first_n(22)))"
      ],
      "metadata": {
        "colab": {
          "base_uri": "https://localhost:8080/"
        },
        "id": "Dv2YjA2nURub",
        "outputId": "e85269e9-6082-4b9b-e2d7-f28b1414409a"
      },
      "execution_count": null,
      "outputs": [
        {
          "output_type": "stream",
          "name": "stdout",
          "text": [
            "231\n"
          ]
        }
      ]
    },
    {
      "cell_type": "code",
      "source": [
        "### generators are memory efficient\n",
        "\n",
        "def first_n_generators(n):\n",
        "  num=0\n",
        "  while num<n:\n",
        "    yield num\n",
        "    num +=1\n",
        "\n",
        "print(sum(first_n_generators(22)))"
      ],
      "metadata": {
        "colab": {
          "base_uri": "https://localhost:8080/"
        },
        "id": "f9T_4xO3URm5",
        "outputId": "1e2953ce-5f5f-475c-cf77-4d0d75af05db"
      },
      "execution_count": null,
      "outputs": [
        {
          "output_type": "stream",
          "name": "stdout",
          "text": [
            "231\n"
          ]
        }
      ]
    },
    {
      "cell_type": "code",
      "source": [
        "import sys\n",
        "def first_n(n):\n",
        "  num=0\n",
        "  nums=[]\n",
        "  while num<n:\n",
        "    nums.append(num)\n",
        "    num +=1\n",
        "  return nums\n",
        "\n",
        "\n",
        "\n",
        "def first_n_generators(n):\n",
        "  num=0\n",
        "  while num<n:\n",
        "    yield num\n",
        "    num +=1\n",
        "\n",
        "\n",
        "print(sys.getsizeof(first_n(1000000)))\n",
        "print(sys.getsizeof(first_n_generators(100000)))\n"
      ],
      "metadata": {
        "colab": {
          "base_uri": "https://localhost:8080/"
        },
        "id": "QUrNCy-XURjS",
        "outputId": "42ec792b-f586-45c0-bd22-291c3c51d915"
      },
      "execution_count": null,
      "outputs": [
        {
          "output_type": "stream",
          "name": "stdout",
          "text": [
            "8697472\n",
            "128\n"
          ]
        }
      ]
    },
    {
      "cell_type": "code",
      "source": [
        "# without a generator, the complete sequence has to be stored here in a list\n",
        "def firstn(n):\n",
        "    num, nums = 0, []\n",
        "    while num < n:\n",
        "        nums.append(num)\n",
        "        num += 1\n",
        "    return nums\n",
        "\n",
        "sum_of_first_n = sum(firstn(1000000))\n",
        "print(sum_of_first_n)\n",
        "\n",
        "print(sys.getsizeof(firstn(100000)), \"bytes\")\n",
        "\n",
        "# with a generator, no additional sequence is needed to store the numbers\n",
        "def firstn(n):\n",
        "    num = 0\n",
        "    while num < n:\n",
        "        yield num\n",
        "        num += 1\n",
        "\n",
        "sum_of_first_n = sum(firstn(10000))\n",
        "print(sum_of_first_n)\n",
        "\n",
        "print(sys.getsizeof(firstn(1000000)), \"bytes\")"
      ],
      "metadata": {
        "colab": {
          "base_uri": "https://localhost:8080/"
        },
        "id": "Thxr39wNURfx",
        "outputId": "d62f3bc7-6183-46c9-87c8-010d87fc2292"
      },
      "execution_count": null,
      "outputs": [
        {
          "output_type": "stream",
          "name": "stdout",
          "text": [
            "499999500000\n",
            "824472 bytes\n",
            "49995000\n",
            "128 bytes\n"
          ]
        }
      ]
    },
    {
      "cell_type": "code",
      "source": [
        "def fibonacci(limit):\n",
        "  a,b=0,1\n",
        "  while a< limit:\n",
        "    yield a\n",
        "    a,b=b,a+b\n",
        "\n",
        "fib=fibonacci(6)\n",
        "for i in fib:\n",
        "  print(i)"
      ],
      "metadata": {
        "colab": {
          "base_uri": "https://localhost:8080/"
        },
        "id": "CGTpZvWyURbb",
        "outputId": "061b94b9-889c-4620-ea53-a0e9735652f1"
      },
      "execution_count": null,
      "outputs": [
        {
          "output_type": "stream",
          "name": "stdout",
          "text": [
            "0\n",
            "1\n",
            "1\n",
            "2\n",
            "3\n",
            "5\n"
          ]
        }
      ]
    },
    {
      "cell_type": "code",
      "source": [
        "mygenerator=(i for i in range(10) if i%2==0)\n",
        "print(list(mygenerator))"
      ],
      "metadata": {
        "colab": {
          "base_uri": "https://localhost:8080/"
        },
        "id": "ICXsNgAfURX5",
        "outputId": "b20d466f-bdcc-41c2-c10e-e168f805b4a4"
      },
      "execution_count": null,
      "outputs": [
        {
          "output_type": "stream",
          "name": "stdout",
          "text": [
            "[0, 2, 4, 6, 8]\n"
          ]
        }
      ]
    },
    {
      "cell_type": "code",
      "source": [
        "a=5\n",
        "b=10\n",
        "a,b=b,a+b\n",
        "print(a,b)"
      ],
      "metadata": {
        "colab": {
          "base_uri": "https://localhost:8080/"
        },
        "id": "WODucYUHURT7",
        "outputId": "1f02ac4c-8169-468b-e524-5db3a2fe5bfe"
      },
      "execution_count": null,
      "outputs": [
        {
          "output_type": "stream",
          "name": "stdout",
          "text": [
            "10 15\n"
          ]
        }
      ]
    },
    {
      "cell_type": "markdown",
      "source": [
        "# Multiprocessing in Python"
      ],
      "metadata": {
        "id": "N81_C5yUkMUV"
      }
    },
    {
      "cell_type": "code",
      "source": [
        "from multiprocessing import Process\n",
        "import time"
      ],
      "metadata": {
        "id": "iVEeiJsEURQW"
      },
      "execution_count": null,
      "outputs": []
    },
    {
      "cell_type": "code",
      "source": [
        "result=[]\n",
        "def greet(name):\n",
        "  for i in range(5):\n",
        "    print(f'Hello {name}')\n",
        "    time.sleep(1)\n",
        "\n",
        "def calc_square(n):\n",
        "  global result\n",
        "  for i in range(n):\n",
        "    time.sleep(1)\n",
        "    print(i*i)\n",
        "    result.append(i*i)\n",
        "  print(result)\n",
        "    \n",
        "\n",
        "p1=Process(target=greet,args=('Ushna',))\n",
        "p2=Process(target=calc_square,args=(5,))\n",
        "\n",
        "p1.start()\n",
        "p2.start()\n",
        "\n",
        "p1.join()\n",
        "p2.join()\n",
        "\n",
        "print(result)\n",
        "print(\"End\")"
      ],
      "metadata": {
        "colab": {
          "base_uri": "https://localhost:8080/"
        },
        "id": "rsudxTOxkbgX",
        "outputId": "15e04ee0-96a2-46ad-da47-03118a336531"
      },
      "execution_count": null,
      "outputs": [
        {
          "output_type": "stream",
          "name": "stdout",
          "text": [
            "Hello Ushna\n",
            "0\n",
            "Hello Ushna\n",
            "1\n",
            "Hello Ushna\n",
            "4\n",
            "Hello Ushna\n",
            "9\n",
            "Hello Ushna\n",
            "16\n",
            "[0, 1, 4, 9, 16]\n",
            "[]\n",
            "End\n"
          ]
        }
      ]
    },
    {
      "cell_type": "code",
      "source": [
        "import os\n",
        "os.cpu_count()"
      ],
      "metadata": {
        "colab": {
          "base_uri": "https://localhost:8080/"
        },
        "id": "oDJA-VdKkba_",
        "outputId": "93532068-3eae-4415-9187-9fa6ff6e182c"
      },
      "execution_count": null,
      "outputs": [
        {
          "output_type": "execute_result",
          "data": {
            "text/plain": [
              "2"
            ]
          },
          "metadata": {},
          "execution_count": 2
        }
      ]
    },
    {
      "cell_type": "markdown",
      "source": [
        "# Multithreading in Python"
      ],
      "metadata": {
        "id": "Ey17KD75xif2"
      }
    },
    {
      "cell_type": "code",
      "source": [
        "def squares(arr):\n",
        "  print(\"Squares:\")\n",
        "  for i in arr:\n",
        "    print(f'{i}: {i*i}')\n",
        "    time.sleep(0.2)\n",
        "\n",
        "def cubes(arr):\n",
        "  print(\"Cubes:\")\n",
        "  for i in arr:\n",
        "    print(f'{i}: {i*i*i}')\n",
        "    time.sleep(0.2)\n",
        "\n",
        "\n",
        "t=time.time()\n",
        "print(t)\n",
        "array=[2,4,6,7]\n",
        "squares(array)\n",
        "cubes(array)\n",
        "\n",
        "\n",
        "print(f'I took {(time.time()-t)} to execute')"
      ],
      "metadata": {
        "colab": {
          "base_uri": "https://localhost:8080/"
        },
        "id": "Cil5IkdPkbXm",
        "outputId": "1ce23d75-4f11-443a-809e-b08e31d25557"
      },
      "execution_count": null,
      "outputs": [
        {
          "output_type": "stream",
          "name": "stdout",
          "text": [
            "1659078010.7993555\n",
            "Squares:\n",
            "2: 4\n",
            "4: 16\n",
            "6: 36\n",
            "7: 49\n",
            "Cubes:\n",
            "2: 8\n",
            "4: 64\n",
            "6: 216\n",
            "7: 343\n",
            "I took 1.6079130172729492 to execute\n"
          ]
        }
      ]
    },
    {
      "cell_type": "code",
      "source": [
        "t=time.time()\n",
        "print(t)"
      ],
      "metadata": {
        "colab": {
          "base_uri": "https://localhost:8080/"
        },
        "id": "vHdaYSNKkbTt",
        "outputId": "1d08be73-5de4-4adf-9385-8760034f668d"
      },
      "execution_count": null,
      "outputs": [
        {
          "output_type": "stream",
          "name": "stdout",
          "text": [
            "1659078052.7136216\n"
          ]
        }
      ]
    },
    {
      "cell_type": "code",
      "source": [
        "help(time)"
      ],
      "metadata": {
        "id": "kDgYgHVikbPI"
      },
      "execution_count": null,
      "outputs": []
    },
    {
      "cell_type": "markdown",
      "source": [
        "### Let's reduce the time with multithreading"
      ],
      "metadata": {
        "id": "9mJkoPkcxawO"
      }
    },
    {
      "cell_type": "code",
      "source": [
        "import threading\n",
        "\n",
        "t=time.time()\n",
        "\n",
        "array=[2,4,6,7]\n",
        "t1=threading.Thread(target=squares,args=(array,))\n",
        "t2=threading.Thread(target=cubes,args=(array,))\n",
        "\n",
        "t1.start()\n",
        "t2.start()\n",
        "\n",
        "t1.join()\n",
        "t2.join()\n",
        "\n",
        "print(f'I took {(time.time()-t)} to execute')\n"
      ],
      "metadata": {
        "colab": {
          "base_uri": "https://localhost:8080/"
        },
        "id": "ts400eEHxmzV",
        "outputId": "1715a6bc-5a9e-4a3a-a63a-7fc9834f624d"
      },
      "execution_count": null,
      "outputs": [
        {
          "output_type": "stream",
          "name": "stdout",
          "text": [
            "Squares:Cubes:\n",
            "\n",
            "2: 8\n",
            "2: 4\n",
            "4: 644: 16\n",
            "\n",
            "6: 36\n",
            "6: 216\n",
            "7: 343\n",
            "7: 49\n",
            "I took 0.8086469173431396 to execute\n"
          ]
        }
      ]
    },
    {
      "cell_type": "markdown",
      "source": [
        "# Sharing data between processes\n",
        "In the above(process code) the global variable result did not have any value when we tried to printed it from main, but when we printed it from the function it got printed, it is simply because the process created a copy of the result and stored values in it. Resolving the issue next:\n"
      ],
      "metadata": {
        "id": "X1838-2lBgpY"
      }
    },
    {
      "cell_type": "markdown",
      "source": [
        "#### Data can be shared using arrays, values, queue, pipes"
      ],
      "metadata": {
        "id": "Px5hafiKE5tw"
      }
    },
    {
      "cell_type": "code",
      "source": [
        "import multiprocessing\n",
        "def squares(array,result):\n",
        "  for idx, i in enumerate(array):\n",
        "    result[idx]=i*i\n",
        " \n",
        "array=[2,3,4]\n",
        "result=multiprocessing.Array('i',3)\n",
        "\n",
        "t=time.time()\n",
        "p=multiprocessing.Process(target=squares,args=(array,result))\n",
        "\n",
        "p.start()\n",
        "p.join()\n",
        "\n",
        "print(result[:])\n",
        "print(time.time()-t)"
      ],
      "metadata": {
        "colab": {
          "base_uri": "https://localhost:8080/"
        },
        "id": "T8iRujCUxmwE",
        "outputId": "bb3890dd-f988-47f5-a574-f6cac7dd1a55"
      },
      "execution_count": null,
      "outputs": [
        {
          "output_type": "stream",
          "name": "stdout",
          "text": [
            "[4, 9, 16]\n",
            "0.014040946960449219\n"
          ]
        }
      ]
    },
    {
      "cell_type": "markdown",
      "source": [
        "ps: different processes have different address spaces"
      ],
      "metadata": {
        "id": "UBVZB_FQE4jN"
      }
    },
    {
      "cell_type": "markdown",
      "source": [
        "# Multiprocessing lock\n",
        "when ever two threads or processes try to access a shared memory we need a lock"
      ],
      "metadata": {
        "id": "_7BfbFbuHYsH"
      }
    },
    {
      "cell_type": "code",
      "source": [
        "def deposit(balance, lock):\n",
        "    for i in range(100):\n",
        "        time.sleep(0.01)\n",
        "        lock.acquire()\n",
        "        balance.value = balance.value + 1\n",
        "        lock.release()\n",
        "\n",
        "def withdraw(balance, lock):\n",
        "    for i in range(100):\n",
        "        time.sleep(0.01)\n",
        "        lock.acquire()\n",
        "        balance.value = balance.value - 1\n",
        "        lock.release()\n",
        "\n",
        "if __name__ == '__main__':\n",
        "    balance = multiprocessing.Value('i', 200)\n",
        "    lock = multiprocessing.Lock()\n",
        "    d = multiprocessing.Process(target=deposit, args=(balance,lock))\n",
        "    w = multiprocessing.Process(target=withdraw, args=(balance,lock))\n",
        "    d.start()\n",
        "    w.start()\n",
        "    d.join()\n",
        "    w.join()\n",
        "    print(balance.value)"
      ],
      "metadata": {
        "colab": {
          "base_uri": "https://localhost:8080/"
        },
        "id": "R6DVH375xms-",
        "outputId": "1a484904-73c5-4e59-fb8a-2dac82142fc9"
      },
      "execution_count": null,
      "outputs": [
        {
          "output_type": "stream",
          "name": "stdout",
          "text": [
            "200\n"
          ]
        }
      ]
    },
    {
      "cell_type": "code",
      "source": [
        ""
      ],
      "metadata": {
        "id": "a7boK4E1H2Sz"
      },
      "execution_count": null,
      "outputs": []
    },
    {
      "cell_type": "code",
      "source": [
        ""
      ],
      "metadata": {
        "id": "jH-EtChkH2Pb"
      },
      "execution_count": null,
      "outputs": []
    },
    {
      "cell_type": "code",
      "source": [
        ""
      ],
      "metadata": {
        "id": "hmzEPysOH2Mv"
      },
      "execution_count": null,
      "outputs": []
    },
    {
      "cell_type": "code",
      "source": [
        ""
      ],
      "metadata": {
        "id": "xFxc_s1rH2Gt"
      },
      "execution_count": null,
      "outputs": []
    },
    {
      "cell_type": "code",
      "source": [
        ""
      ],
      "metadata": {
        "id": "D8HJsLLuH2C9"
      },
      "execution_count": null,
      "outputs": []
    },
    {
      "cell_type": "code",
      "source": [
        ""
      ],
      "metadata": {
        "id": "L-TnqFmoH1-1"
      },
      "execution_count": null,
      "outputs": []
    },
    {
      "cell_type": "code",
      "source": [
        ""
      ],
      "metadata": {
        "id": "yOCKaGcmH17S"
      },
      "execution_count": null,
      "outputs": []
    },
    {
      "cell_type": "code",
      "source": [
        ""
      ],
      "metadata": {
        "id": "hZViKEjdH136"
      },
      "execution_count": null,
      "outputs": []
    },
    {
      "cell_type": "code",
      "source": [
        ""
      ],
      "metadata": {
        "id": "nGzx43VEH10o"
      },
      "execution_count": null,
      "outputs": []
    },
    {
      "cell_type": "code",
      "source": [
        ""
      ],
      "metadata": {
        "id": "6VR4ElCDH1w-"
      },
      "execution_count": null,
      "outputs": []
    },
    {
      "cell_type": "code",
      "source": [
        ""
      ],
      "metadata": {
        "id": "ZifBJTZuH1tT"
      },
      "execution_count": null,
      "outputs": []
    },
    {
      "cell_type": "code",
      "source": [
        ""
      ],
      "metadata": {
        "id": "m6bdhPO8H1pv"
      },
      "execution_count": null,
      "outputs": []
    },
    {
      "cell_type": "code",
      "source": [
        ""
      ],
      "metadata": {
        "id": "nXTlraARH1mV"
      },
      "execution_count": null,
      "outputs": []
    },
    {
      "cell_type": "code",
      "source": [
        ""
      ],
      "metadata": {
        "id": "48mv2nyyxmpn"
      },
      "execution_count": null,
      "outputs": []
    },
    {
      "cell_type": "code",
      "source": [
        ""
      ],
      "metadata": {
        "id": "gQVTdbZWxmlW"
      },
      "execution_count": null,
      "outputs": []
    },
    {
      "cell_type": "code",
      "source": [
        ""
      ],
      "metadata": {
        "id": "FqcnHTTwxbR0"
      },
      "execution_count": null,
      "outputs": []
    }
  ]
}